{
  "nbformat": 4,
  "nbformat_minor": 0,
  "metadata": {
    "colab": {
      "provenance": []
    },
    "kernelspec": {
      "name": "python3",
      "display_name": "Python 3"
    },
    "language_info": {
      "name": "python"
    }
  },
  "cells": [
    {
      "cell_type": "code",
      "source": [
        "!pip install lightgbm\n",
        "!pip install econml\n",
        "\n",
        "import matplotlib.pyplot as plt\n",
        "import numpy as np\n",
        "import networkx as nx\n",
        "import pandas as pd\n",
        "import seaborn as sns\n",
        "import scipy as sp\n",
        "import statsmodels.formula.api as smf\n",
        "from sklearn.dummy import DummyRegressor, DummyClassifier\n",
        "from sklearn.linear_model import LinearRegression, LogisticRegression, LassoCV, RidgeCV, LogisticRegressionCV\n",
        "from sklearn.ensemble import RandomForestRegressor, RandomForestClassifier\n",
        "from sklearn.preprocessing import PolynomialFeatures\n",
        "from sklearn.model_selection import cross_val_predict, StratifiedKFold\n",
        "from sklearn.pipeline import make_pipeline\n",
        "from sklearn.kernel_ridge import KernelRidge\n",
        "from lightgbm import LGBMRegressor, LGBMClassifier\n",
        "from xgboost import XGBClassifier\n",
        "import warnings\n",
        "from econml.dml import CausalForestDML\n",
        "\n",
        "warnings.filterwarnings(\"ignore\")\n",
        "np.random.seed(123)"
      ],
      "metadata": {
        "id": "TRdDzP-j9CPp",
        "colab": {
          "base_uri": "https://localhost:8080/"
        },
        "outputId": "6af2cad7-6ca7-4e6c-8793-57905ac7b41d"
      },
      "execution_count": 2,
      "outputs": [
        {
          "output_type": "stream",
          "name": "stdout",
          "text": [
            "Collecting econml\n",
            "  Downloading econml-0.15.1-cp310-cp310-manylinux_2_17_x86_64.manylinux2014_x86_64.whl.metadata (38 kB)\n",
            "Requirement already satisfied: numpy<2 in /usr/local/lib/python3.10/dist-packages (from econml) (1.26.4)\n",
            "Requirement already satisfied: scipy>1.4.0 in /usr/local/lib/python3.10/dist-packages (from econml) (1.13.1)\n",
            "Requirement already satisfied: scikit-learn<1.6,>=1.0 in /usr/local/lib/python3.10/dist-packages (from econml) (1.5.2)\n",
            "Collecting sparse (from econml)\n",
            "  Downloading sparse-0.15.4-py2.py3-none-any.whl.metadata (4.5 kB)\n",
            "Requirement already satisfied: joblib>=0.13.0 in /usr/local/lib/python3.10/dist-packages (from econml) (1.4.2)\n",
            "Requirement already satisfied: statsmodels>=0.10 in /usr/local/lib/python3.10/dist-packages (from econml) (0.14.4)\n",
            "Requirement already satisfied: pandas>1.0 in /usr/local/lib/python3.10/dist-packages (from econml) (2.2.2)\n",
            "Collecting shap<0.44.0,>=0.38.1 (from econml)\n",
            "  Downloading shap-0.43.0-cp310-cp310-manylinux_2_12_x86_64.manylinux2010_x86_64.manylinux_2_17_x86_64.manylinux2014_x86_64.whl.metadata (24 kB)\n",
            "Requirement already satisfied: lightgbm in /usr/local/lib/python3.10/dist-packages (from econml) (4.5.0)\n",
            "Requirement already satisfied: packaging in /usr/local/lib/python3.10/dist-packages (from econml) (24.2)\n",
            "Requirement already satisfied: python-dateutil>=2.8.2 in /usr/local/lib/python3.10/dist-packages (from pandas>1.0->econml) (2.8.2)\n",
            "Requirement already satisfied: pytz>=2020.1 in /usr/local/lib/python3.10/dist-packages (from pandas>1.0->econml) (2024.2)\n",
            "Requirement already satisfied: tzdata>=2022.7 in /usr/local/lib/python3.10/dist-packages (from pandas>1.0->econml) (2024.2)\n",
            "Requirement already satisfied: threadpoolctl>=3.1.0 in /usr/local/lib/python3.10/dist-packages (from scikit-learn<1.6,>=1.0->econml) (3.5.0)\n",
            "Requirement already satisfied: tqdm>=4.27.0 in /usr/local/lib/python3.10/dist-packages (from shap<0.44.0,>=0.38.1->econml) (4.66.6)\n",
            "Collecting slicer==0.0.7 (from shap<0.44.0,>=0.38.1->econml)\n",
            "  Downloading slicer-0.0.7-py3-none-any.whl.metadata (3.7 kB)\n",
            "Requirement already satisfied: numba in /usr/local/lib/python3.10/dist-packages (from shap<0.44.0,>=0.38.1->econml) (0.60.0)\n",
            "Requirement already satisfied: cloudpickle in /usr/local/lib/python3.10/dist-packages (from shap<0.44.0,>=0.38.1->econml) (3.1.0)\n",
            "Requirement already satisfied: patsy>=0.5.6 in /usr/local/lib/python3.10/dist-packages (from statsmodels>=0.10->econml) (1.0.1)\n",
            "Requirement already satisfied: llvmlite<0.44,>=0.43.0dev0 in /usr/local/lib/python3.10/dist-packages (from numba->shap<0.44.0,>=0.38.1->econml) (0.43.0)\n",
            "Requirement already satisfied: six>=1.5 in /usr/local/lib/python3.10/dist-packages (from python-dateutil>=2.8.2->pandas>1.0->econml) (1.16.0)\n",
            "Downloading econml-0.15.1-cp310-cp310-manylinux_2_17_x86_64.manylinux2014_x86_64.whl (4.5 MB)\n",
            "\u001b[2K   \u001b[90m━━━━━━━━━━━━━━━━━━━━━━━━━━━━━━━━━━━━━━━━\u001b[0m \u001b[32m4.5/4.5 MB\u001b[0m \u001b[31m30.1 MB/s\u001b[0m eta \u001b[36m0:00:00\u001b[0m\n",
            "\u001b[?25hDownloading shap-0.43.0-cp310-cp310-manylinux_2_12_x86_64.manylinux2010_x86_64.manylinux_2_17_x86_64.manylinux2014_x86_64.whl (532 kB)\n",
            "\u001b[2K   \u001b[90m━━━━━━━━━━━━━━━━━━━━━━━━━━━━━━━━━━━━━━━━\u001b[0m \u001b[32m532.9/532.9 kB\u001b[0m \u001b[31m28.1 MB/s\u001b[0m eta \u001b[36m0:00:00\u001b[0m\n",
            "\u001b[?25hDownloading slicer-0.0.7-py3-none-any.whl (14 kB)\n",
            "Downloading sparse-0.15.4-py2.py3-none-any.whl (237 kB)\n",
            "\u001b[2K   \u001b[90m━━━━━━━━━━━━━━━━━━━━━━━━━━━━━━━━━━━━━━━━\u001b[0m \u001b[32m237.3/237.3 kB\u001b[0m \u001b[31m10.4 MB/s\u001b[0m eta \u001b[36m0:00:00\u001b[0m\n",
            "\u001b[?25hInstalling collected packages: slicer, sparse, shap, econml\n",
            "  Attempting uninstall: slicer\n",
            "    Found existing installation: slicer 0.0.8\n",
            "    Uninstalling slicer-0.0.8:\n",
            "      Successfully uninstalled slicer-0.0.8\n",
            "  Attempting uninstall: shap\n",
            "    Found existing installation: shap 0.46.0\n",
            "    Uninstalling shap-0.46.0:\n",
            "      Successfully uninstalled shap-0.46.0\n",
            "Successfully installed econml-0.15.1 shap-0.43.0 slicer-0.0.7 sparse-0.15.4\n"
          ]
        },
        {
          "output_type": "stream",
          "name": "stderr",
          "text": [
            "/usr/local/lib/python3.10/dist-packages/dask/dataframe/__init__.py:42: FutureWarning: \n",
            "Dask dataframe query planning is disabled because dask-expr is not installed.\n",
            "\n",
            "You can install it with `pip install dask[dataframe]` or `conda install dask`.\n",
            "This will raise in a future version.\n",
            "\n",
            "  warnings.warn(msg, FutureWarning)\n"
          ]
        }
      ]
    },
    {
      "cell_type": "markdown",
      "source": [
        "<h1><center> Causal Inference - Final Project </center></h1>\n",
        "<h2><center> Should We Ever Use Linear Difference-in-Differences? </center></h2>\n",
        "<h3><center> El Gataa Charif </center></h3>"
      ],
      "metadata": {
        "id": "92wGO8OsPwpj"
      }
    },
    {
      "cell_type": "markdown",
      "source": [
        "Assume parallel trends and linear model, Difference-in-Differences allows to compute the average treatment of the treated (ATT).\n",
        "\n",
        "But what about the ATE? And what if we have a non-linear relationship between covariates and outcome? Or we have heterogeneity in the effects of the treatment?"
      ],
      "metadata": {
        "id": "oEzDzOfo7PcK"
      }
    },
    {
      "cell_type": "markdown",
      "source": [
        "## Double/Debiased Machine Learning"
      ],
      "metadata": {
        "id": "D6nOcXU87jQP"
      }
    },
    {
      "cell_type": "markdown",
      "source": [
        "Assume we have the following problem:"
      ],
      "metadata": {
        "id": "bYEHKwey8It4"
      }
    },
    {
      "cell_type": "code",
      "execution_count": 3,
      "metadata": {
        "id": "1wqxDviePups",
        "colab": {
          "base_uri": "https://localhost:8080/",
          "height": 237
        },
        "outputId": "05cc06df-018c-486b-93a3-d8a2e217160c"
      },
      "outputs": [
        {
          "output_type": "display_data",
          "data": {
            "text/plain": [
              "<Figure size 200x200 with 1 Axes>"
            ],
            "image/png": "[encoded data removed]"
          },
          "metadata": {}
        }
      ],
      "source": [
        "G = nx.DiGraph()\n",
        "G.add_nodes_from(['X', 'Y', 'D'])\n",
        "G.add_edge('X','Y')\n",
        "G.add_edge('X','D')\n",
        "G.add_edge('D','Y')\n",
        "pos = nx.shell_layout(G)\n",
        "plt.figure(figsize=(2, 2))\n",
        "nx.draw(G, pos, with_labels=True, node_color='white', node_size=800, font_size=20, arrowsize=6)\n",
        "\n",
        "plt.show()"
      ]
    },
    {
      "cell_type": "markdown",
      "source": [
        "where\n",
        "\\begin{equation*}\n",
        "Y = D*β + g_0(X) + \\epsilon\n",
        "\\end{equation*}\n",
        "and\n",
        "\\begin{equation*}\n",
        "D = m_0(X) + \\xi\n",
        "\\end{equation*}\n",
        "where we assume $X,\\epsilon,\\xi$ jointly independent and $\\epsilon,\\xi$ have 0 mean."
      ],
      "metadata": {
        "id": "R5KXWQzlAQHq"
      }
    },
    {
      "cell_type": "markdown",
      "source": [
        "**Method**:\n",
        "\n",
        "We both estimate $g_0$ and $m_0$ and get, respectively, $\\hat{g}$ and $\\hat{m}$. For all $i$ we compute\n",
        "\n",
        "\\begin{equation*}\n",
        "R_i = Y_i - \\hat{g}(X_i) \\:\\:\\:\\:\\: and \\:\\:\\:\\:\\: \\tilde{R}_i = D_i - \\hat{m}(X_i)\n",
        "\\end{equation*}\n",
        "\n",
        "Set $\\mathbb{E}[R(\\tilde{R}-D*\\beta)]=0$ and use it to estimate $\\beta$ with\n",
        "\n",
        "\\begin{equation*}\n",
        "\\hat{\\beta} = \\frac{\\sum_i (D_i - \\hat{m}(X_i))*R_i}{\\sum_i (D_i - \\hat{m}(X_i))*D_i}\n",
        "\\end{equation*}\n",
        "\n",
        "**Asymptotically**:\n",
        "\n",
        "\\begin{equation*}\n",
        "BIAS(\\hat{\\beta}) \\sim \\frac{\\mathbb{E}[(m_0(X)-\\hat{m}(X))(g_0(X)-\\hat{g}(X))]}{\\mathbb{E}[(D-\\hat{m}(X))D]}\n",
        "\\end{equation*}\n",
        "\n",
        "We can bound it with the Cauchy-Schwartz inequality, which states that for all $\\textbf{u}$,$\\textbf{v}$ vectors in a normed vector space with inner product $<\\cdot,\\cdot>$:\n",
        "\n",
        "\\begin{equation*}\n",
        "<u,v>\\:\\leq |u||v|\n",
        "\\end{equation*}\n",
        "\n",
        "Therefore:\n",
        "\n",
        "\\begin{equation*}\n",
        "BIAS(\\hat{\\beta}) \\leq \\mathbb{E}[(m_0(X)-\\hat{m}(X))^2]^{1/2}\\mathbb{E}[(g_0(X)-\\hat{g}(X))^2]^{1/2}\n",
        "\\end{equation*}\n",
        "\n",
        "In order to control the bias of $\\hat{\\beta}$, we need it to converge at a smaller rate than $o\\big{(}\\frac{1}{\\sqrt{n}}\\big{)}$ (for the CLT to hold).\n",
        "\n",
        "This means that for the bias not to disturb the CLT, we don't need both biases of $\\hat{m}$ and $\\hat{g}$ to converge at a $\\frac{1}{\\sqrt{n}}$ rate, but only their product has to.\n",
        "\n",
        "For example, if both biases converge at a reta of $\\frac{1}{n^{\\frac{1}{3}}}$, then their product converges at a rate of $\\frac{1}{n^{\\frac{2}{3}}}<\\frac{1}{n^{\\frac{1}{2}}}$ and bias of $\\hat{\\beta}$ goes to 0 asymptotically. Good news!"
      ],
      "metadata": {
        "id": "pKb3gbimmrOu"
      }
    },
    {
      "cell_type": "markdown",
      "source": [
        "The **strategy** to use is:\n",
        "\n",
        "*   Split the datapoints in a disjoint union of $K$ subsets of approximately equal size $\\{1,...,n\\}=\\sum_{k=1}^K I_k$\n",
        "*   For each set $k$:\n",
        "    *   Regress $D$ on $X$ and get an estimate $\\hat{m}^k$, save $\\hat{\\xi}^k=D-\\hat{m}^k(X)$\n",
        "    *   Regress $Y$ on $X$ and get an estimate $\\hat{g}^k$, save $\\hat{R}^k=Y-\\hat{g}^k(X)$\n",
        "    * Solve $\\frac{1}{|I_k|}\\sum_{i \\in I_k}\\hat{\\xi}^k_i\\cdot(\\hat{R}^k_i - D_i \\hat{\\beta}^{k})=0$ in order to find $\\hat{\\beta}^k$\n",
        "*   Estimate the ATE as $\\hat{\\beta}=\\frac{1}{K}\\sum_{k=1}^K\\hat{\\beta}^k$"
      ],
      "metadata": {
        "id": "q4c_czuUwHAJ"
      }
    },
    {
      "cell_type": "markdown",
      "source": [
        "Why does this method work?"
      ],
      "metadata": {
        "id": "67nRB9vX0wJY"
      }
    },
    {
      "cell_type": "markdown",
      "source": [
        "**Score functions and Neyman orthogonality**:\n",
        "\n",
        "The key input of a DML method is to find a score $\\psi(\\beta,\\eta)$ (where $\\beta$ parameter of interest and $\\eta$ nuisance functions) that satisfies some properties:\n",
        "\n",
        "* $\\mathbb{E}[\\psi(\\beta,\\eta)]=0$ if and only if $\\beta=\\beta_0$ the true value\n",
        "\n",
        "* The score is Neyman orthogonal, i.e. it is robust against perturbations of the nuisance functions,\n",
        "\n",
        "\\begin{equation*}\n",
        "\\frac{\\partial \\mathbb{E}[\\psi(\\beta,\\eta)]}{\\partial \\eta} = 0\n",
        "\\end{equation*}"
      ],
      "metadata": {
        "id": "x9dSRch2y8nz"
      }
    },
    {
      "cell_type": "markdown",
      "source": [
        "**NB**: In the case above, the score that we were using was $\\psi(\\beta,g_0,m_0)=\\epsilon(\\beta,g_0) * \\xi(m_0) = (D-m_0(X))*(Y-\\beta*D-g_0(X))$"
      ],
      "metadata": {
        "id": "rkZCSXzU2rXV"
      }
    },
    {
      "cell_type": "markdown",
      "source": [
        "## Difference-in-Differences with DML"
      ],
      "metadata": {
        "id": "f8ePLWV67_BG"
      }
    },
    {
      "cell_type": "markdown",
      "source": [
        "Assume we have panel data for two different periods, $T=0,1$, we have a treatment group and a control group, $D=0,1$, and treatment occurred between the two periods."
      ],
      "metadata": {
        "id": "uVlzvgQAXbtv"
      }
    },
    {
      "cell_type": "markdown",
      "source": [
        "In order to perform DiD with DML, we consider a conditional version of the usual DiD assumptions:\n",
        "* Conditional parallel trends assumption: $E[Y_1(0)-Y_0(0)|D=1,X]=E[Y_1(0)-Y_0(0)|D=0,X]$ a.s.\n",
        "* Conditional no anticipation assumption: $E[Y_0(0)|D=1,X]=E[Y_0(1)|D=1,X]$ a.s.\n",
        "\n",
        "Assume also a treatment group exists and its characteristichs overlap with the control group: $\\exists \\epsilon > 0 : P(D=1)\\geq \\epsilon$ and $P(D=1|X)\\leq 1-\\epsilon$ a.s."
      ],
      "metadata": {
        "id": "I3nkl7pe8CEm"
      }
    },
    {
      "cell_type": "markdown",
      "source": [
        "We are interested in estimating the ATT\n",
        "\\begin{equation*}\n",
        "\\theta = ATT = \\mathbb{E} [f_0(1,X)-f_0(0,X)|D=1]\n",
        "\\end{equation*}\n",
        "with $Y=f_0(D,X)+\\epsilon$ and $\\epsilon$ has 0 mean. In our case $f_0(D,X)=D*\\beta+g_0(X)$\n",
        "\n",
        "The Neyman orthogonal score to estimate the ATT with panel data is\n",
        "\n",
        "\\begin{equation*}\n",
        "\\psi(W,\\theta,\\eta) = \\frac{D - m(X)}{p(1 - m(X))}(Y - f_0(0,X)) - \\frac{D*\\theta}{p}\n",
        "\\end{equation*}\n",
        "\n",
        "If we are inerested in te conditional DiD framework with panel data, we use the score above with $\\Delta Y$ instead of $Y$.\n",
        "\n",
        "The **algorithm** in this case is:\n",
        "\n",
        "*   Split the datapoints in a disjoint union of $K$ subsets of approximately equal size $\\{1,...,n\\}=\\sum_{k=1}^K I_k$\n",
        "*   For each set $k$:\n",
        "    *   Regress $D$ on $X$ and get an estimate $\\hat{m}^k$, save $\\hat{\\xi}^k=D-\\hat{m}^k(X)$\n",
        "    *   Regress $Y$ (or $\\Delta Y$) on $X$ and get an estimate $\\hat{g}^k$, save $\\hat{R}^k=Y-\\hat{g}^k(X)$\n",
        "    * Solve $\\frac{1}{|I_k|}\\sum_{i \\in I_k} \\psi(W_i,\\hat{\\theta}^k)=0$ in order to find $\\hat{\\theta}^k$\n",
        "*   Estimate the ATE as $\\hat{\\theta}=\\frac{1}{K}\\sum_{k=1}^K\\hat{\\theta}^k$"
      ],
      "metadata": {
        "id": "Mw4lH-xSTiFY"
      }
    },
    {
      "cell_type": "markdown",
      "source": [
        "# Synthetic data"
      ],
      "metadata": {
        "id": "YE4CcYYwbEGm"
      }
    },
    {
      "cell_type": "markdown",
      "source": [
        "We consider a panel data model with 2 time periods.\n",
        "Assume we have $N$ observations, observed at $T=2$ time periods.\n",
        "We have both individual unobservables $H_i$ and time unobservables $J_t$, and we have some individual observable characteristics $X_i$.\n",
        "We denote the treatment as $D_i$ and define variable $W_{i,t}=D_i\\mathbb{1}(t=1)$. We assume heterogeneity in the individual treatment effect, that depends both on individual observables and unobservables, following the functional form:\n",
        "\\begin{equation*}\n",
        "f(H_i,X_i) = 2*\\sqrt{|2H_i+X_i|}-5\n",
        "\\end{equation*}\n",
        "\n",
        "so ATE is slightly positive.\n",
        "\n",
        "Therefore, our model equation is\n",
        "\n",
        "\\begin{equation*}\n",
        "Y_{i,t} = f(H_i,X_i)W_{i,t}+g(H_i,X_i,J_t)+\\epsilon_{i,t}\n",
        "\\end{equation*}\n",
        "\n",
        "For example, we have $N$ students that have to take a standardized test twice, between the two tests some students get some specialized training. Assume the individual unobservables are the memorization skills and the observable is the number of times each individual studied for the test. The time unobservable is the difficulty of the exam.\n",
        "\n",
        "In order to use linear DiD, we assume $g(H_i,X_i,J_t)=H_i+X_i+J_t$\n",
        "\n",
        "Variables are drawn from the following distributions:\n",
        "\n",
        "* $X_i \\sim Exp(1)$\n",
        "* $H_i \\sim N(3,1)$\n",
        "* $J_t \\sim U(1,3)$\n",
        "* $\\epsilon_{i,t} \\sim N(0,0.5)$\n",
        "\n",
        "Treatment assignment depends on individual confounders, both observed and unobserved, i.e.\n",
        "\\begin{equation*}\n",
        "D_i = \\mathbb{1}(f(H_i,X_i)+\\xi_i>0) \\:\\:\\:\\:\\:\\:\\:\\:\\: \\xi_i \\sim N(0,1)\n",
        "\\end{equation*}\n",
        "\n",
        "Therefore, not all the students that would benefit the training will be chosen to attend it.\n",
        "\n"
      ],
      "metadata": {
        "id": "gKIZmIA2wOZq"
      }
    },
    {
      "cell_type": "code",
      "source": [
        "# data generating process\n",
        "\n",
        "def f(x,y):\n",
        "  return 2*np.sqrt(abs(2*x+y))-5\n",
        "\n",
        "def generate_data(n, t):\n",
        "  df = pd.DataFrame({\n",
        "  \"i\": np.repeat(np.arange(0, n), t),\n",
        "  \"t\": np.tile(np.arange(0, t), n),\n",
        "  \"X\": np.repeat(np.random.exponential(1, n), t),\n",
        "  \"H\": np.repeat(np.random.normal(3, 1, n), t),\n",
        "  \"J\": np.tile(np.random.uniform(1, 3, t), n),\n",
        "  \"error\": np.random.normal(0, 0.5, n * t),\n",
        "  })\n",
        "  return df\n",
        "\n",
        "def assign_treatment(df):\n",
        "  df[\"xi\"] = np.repeat(np.random.normal(0, 1, int(df.shape[0]/2)), 2)\n",
        "  df[\"D\"] = np.where(f(df[\"H\"], df[\"X\"]) + df[\"xi\"] > 0, 1, 0)\n",
        "  df[\"W\"] = df[\"D\"] * df[\"t\"]\n",
        "  return df\n",
        "\n",
        "def assign_outcome(df):\n",
        "  df[\"Y\"] = f(df[\"H\"], df[\"X\"]) * df[\"W\"] + df[\"H\"] + df[\"X\"] +df[\"J\"] + df[\"error\"]\n",
        "  return df\n",
        "\n",
        "def print_observables(df):\n",
        "  return df.drop(columns=[\"H\", \"error\", \"xi\"]).head()"
      ],
      "metadata": {
        "id": "75XEpflzbGHx"
      },
      "execution_count": 4,
      "outputs": []
    },
    {
      "cell_type": "markdown",
      "source": [
        "How the data set looks like:"
      ],
      "metadata": {
        "id": "ywrUF0mbn-Qm"
      }
    },
    {
      "cell_type": "code",
      "source": [
        "# generate data set\n",
        "\n",
        "df = generate_data(10000, 2)\n",
        "df = assign_treatment(df)\n",
        "df = assign_outcome(df)\n",
        "\n",
        "# print observables\n",
        "\n",
        "print_observables(df)"
      ],
      "metadata": {
        "colab": {
          "base_uri": "https://localhost:8080/",
          "height": 206
        },
        "id": "00lCp75pkBYY",
        "outputId": "4ed03bef-23aa-433e-9437-2b30d7e64e0d"
      },
      "execution_count": 5,
      "outputs": [
        {
          "output_type": "execute_result",
          "data": {
            "text/plain": [
              "   i  t         X         J  D  W         Y\n",
              "0  0  0  1.192272  2.251299  1  0  7.243204\n",
              "1  0  1  1.192272  1.042101  1  1  7.367739\n",
              "2  1  0  0.337067  2.251299  0  0  6.349928\n",
              "3  1  1  0.337067  1.042101  0  0  5.744355\n",
              "4  2  0  0.257284  2.251299  1  0  4.637126"
            ],
            "text/html": [
              "\n",
              "  <div id=\"df-8d8b5cc4-0cf3-40be-af1f-ecb8ba97d7a2\" class=\"colab-df-container\">\n",
              "    <div>\n",
              "<style scoped>\n",
              "    .dataframe tbody tr th:only-of-type {\n",
              "        vertical-align: middle;\n",
              "    }\n",
              "\n",
              "    .dataframe tbody tr th {\n",
              "        vertical-align: top;\n",
              "    }\n",
              "\n",
              "    .dataframe thead th {\n",
              "        text-align: right;\n",
              "    }\n",
              "</style>\n",
              "<table border=\"1\" class=\"dataframe\">\n",
              "  <thead>\n",
              "    <tr style=\"text-align: right;\">\n",
              "      <th></th>\n",
              "      <th>i</th>\n",
              "      <th>t</th>\n",
              "      <th>X</th>\n",
              "      <th>J</th>\n",
              "      <th>D</th>\n",
              "      <th>W</th>\n",
              "      <th>Y</th>\n",
              "    </tr>\n",
              "  </thead>\n",
              "  <tbody>\n",
              "    <tr>\n",
              "      <th>0</th>\n",
              "      <td>0</td>\n",
              "      <td>0</td>\n",
              "      <td>1.192272</td>\n",
              "      <td>2.251299</td>\n",
              "      <td>1</td>\n",
              "      <td>0</td>\n",
              "      <td>7.243204</td>\n",
              "    </tr>\n",
              "    <tr>\n",
              "      <th>1</th>\n",
              "      <td>0</td>\n",
              "      <td>1</td>\n",
              "      <td>1.192272</td>\n",
              "      <td>1.042101</td>\n",
              "      <td>1</td>\n",
              "      <td>1</td>\n",
              "      <td>7.367739</td>\n",
              "    </tr>\n",
              "    <tr>\n",
              "      <th>2</th>\n",
              "      <td>1</td>\n",
              "      <td>0</td>\n",
              "      <td>0.337067</td>\n",
              "      <td>2.251299</td>\n",
              "      <td>0</td>\n",
              "      <td>0</td>\n",
              "      <td>6.349928</td>\n",
              "    </tr>\n",
              "    <tr>\n",
              "      <th>3</th>\n",
              "      <td>1</td>\n",
              "      <td>1</td>\n",
              "      <td>0.337067</td>\n",
              "      <td>1.042101</td>\n",
              "      <td>0</td>\n",
              "      <td>0</td>\n",
              "      <td>5.744355</td>\n",
              "    </tr>\n",
              "    <tr>\n",
              "      <th>4</th>\n",
              "      <td>2</td>\n",
              "      <td>0</td>\n",
              "      <td>0.257284</td>\n",
              "      <td>2.251299</td>\n",
              "      <td>1</td>\n",
              "      <td>0</td>\n",
              "      <td>4.637126</td>\n",
              "    </tr>\n",
              "  </tbody>\n",
              "</table>\n",
              "</div>\n",
              "    <div class=\"colab-df-buttons\">\n",
              "\n",
              "  <div class=\"colab-df-container\">\n",
              "    <button class=\"colab-df-convert\" onclick=\"convertToInteractive('df-8d8b5cc4-0cf3-40be-af1f-ecb8ba97d7a2')\"\n",
              "            title=\"Convert this dataframe to an interactive table.\"\n",
              "            style=\"display:none;\">\n",
              "\n",
              "  <svg xmlns=\"http://www.w3.org/2000/svg\" height=\"24px\" viewBox=\"0 -960 960 960\">\n",
              "    <path d=\"M120-120v-720h720v720H120Zm60-500h600v-160H180v160Zm220 220h160v-160H400v160Zm0 220h160v-160H400v160ZM180-400h160v-160H180v160Zm440 0h160v-160H620v160ZM180-180h160v-160H180v160Zm440 0h160v-160H620v160Z\"/>\n",
              "  </svg>\n",
              "    </button>\n",
              "\n",
              "  <style>\n",
              "    .colab-df-container {\n",
              "      display:flex;\n",
              "      gap: 12px;\n",
              "    }\n",
              "\n",
              "    .colab-df-convert {\n",
              "      background-color: #E8F0FE;\n",
              "      border: none;\n",
              "      border-radius: 50%;\n",
              "      cursor: pointer;\n",
              "      display: none;\n",
              "      fill: #1967D2;\n",
              "      height: 32px;\n",
              "      padding: 0 0 0 0;\n",
              "      width: 32px;\n",
              "    }\n",
              "\n",
              "    .colab-df-convert:hover {\n",
              "      background-color: #E2EBFA;\n",
              "      box-shadow: 0px 1px 2px rgba(60, 64, 67, 0.3), 0px 1px 3px 1px rgba(60, 64, 67, 0.15);\n",
              "      fill: #174EA6;\n",
              "    }\n",
              "\n",
              "    .colab-df-buttons div {\n",
              "      margin-bottom: 4px;\n",
              "    }\n",
              "\n",
              "    [theme=dark] .colab-df-convert {\n",
              "      background-color: #3B4455;\n",
              "      fill: #D2E3FC;\n",
              "    }\n",
              "\n",
              "    [theme=dark] .colab-df-convert:hover {\n",
              "      background-color: #434B5C;\n",
              "      box-shadow: 0px 1px 3px 1px rgba(0, 0, 0, 0.15);\n",
              "      filter: drop-shadow(0px 1px 2px rgba(0, 0, 0, 0.3));\n",
              "      fill: #FFFFFF;\n",
              "    }\n",
              "  </style>\n",
              "\n",
              "    <script>\n",
              "      const buttonEl =\n",
              "        document.querySelector('#df-8d8b5cc4-0cf3-40be-af1f-ecb8ba97d7a2 button.colab-df-convert');\n",
              "      buttonEl.style.display =\n",
              "        google.colab.kernel.accessAllowed ? 'block' : 'none';\n",
              "\n",
              "      async function convertToInteractive(key) {\n",
              "        const element = document.querySelector('#df-8d8b5cc4-0cf3-40be-af1f-ecb8ba97d7a2');\n",
              "        const dataTable =\n",
              "          await google.colab.kernel.invokeFunction('convertToInteractive',\n",
              "                                                    [key], {});\n",
              "        if (!dataTable) return;\n",
              "\n",
              "        const docLinkHtml = 'Like what you see? Visit the ' +\n",
              "          '<a target=\"_blank\" href=https://colab.research.google.com/notebooks/data_table.ipynb>data table notebook</a>'\n",
              "          + ' to learn more about interactive tables.';\n",
              "        element.innerHTML = '';\n",
              "        dataTable['output_type'] = 'display_data';\n",
              "        await google.colab.output.renderOutput(dataTable, element);\n",
              "        const docLink = document.createElement('div');\n",
              "        docLink.innerHTML = docLinkHtml;\n",
              "        element.appendChild(docLink);\n",
              "      }\n",
              "    </script>\n",
              "  </div>\n",
              "\n",
              "\n",
              "<div id=\"df-d3e25e9c-1063-492b-b570-e58ef529b1bd\">\n",
              "  <button class=\"colab-df-quickchart\" onclick=\"quickchart('df-d3e25e9c-1063-492b-b570-e58ef529b1bd')\"\n",
              "            title=\"Suggest charts\"\n",
              "            style=\"display:none;\">\n",
              "\n",
              "<svg xmlns=\"http://www.w3.org/2000/svg\" height=\"24px\"viewBox=\"0 0 24 24\"\n",
              "     width=\"24px\">\n",
              "    <g>\n",
              "        <path d=\"M19 3H5c-1.1 0-2 .9-2 2v14c0 1.1.9 2 2 2h14c1.1 0 2-.9 2-2V5c0-1.1-.9-2-2-2zM9 17H7v-7h2v7zm4 0h-2V7h2v10zm4 0h-2v-4h2v4z\"/>\n",
              "    </g>\n",
              "</svg>\n",
              "  </button>\n",
              "\n",
              "<style>\n",
              "  .colab-df-quickchart {\n",
              "      --bg-color: #E8F0FE;\n",
              "      --fill-color: #1967D2;\n",
              "      --hover-bg-color: #E2EBFA;\n",
              "      --hover-fill-color: #174EA6;\n",
              "      --disabled-fill-color: #AAA;\n",
              "      --disabled-bg-color: #DDD;\n",
              "  }\n",
              "\n",
              "  [theme=dark] .colab-df-quickchart {\n",
              "      --bg-color: #3B4455;\n",
              "      --fill-color: #D2E3FC;\n",
              "      --hover-bg-color: #434B5C;\n",
              "      --hover-fill-color: #FFFFFF;\n",
              "      --disabled-bg-color: #3B4455;\n",
              "      --disabled-fill-color: #666;\n",
              "  }\n",
              "\n",
              "  .colab-df-quickchart {\n",
              "    background-color: var(--bg-color);\n",
              "    border: none;\n",
              "    border-radius: 50%;\n",
              "    cursor: pointer;\n",
              "    display: none;\n",
              "    fill: var(--fill-color);\n",
              "    height: 32px;\n",
              "    padding: 0;\n",
              "    width: 32px;\n",
              "  }\n",
              "\n",
              "  .colab-df-quickchart:hover {\n",
              "    background-color: var(--hover-bg-color);\n",
              "    box-shadow: 0 1px 2px rgba(60, 64, 67, 0.3), 0 1px 3px 1px rgba(60, 64, 67, 0.15);\n",
              "    fill: var(--button-hover-fill-color);\n",
              "  }\n",
              "\n",
              "  .colab-df-quickchart-complete:disabled,\n",
              "  .colab-df-quickchart-complete:disabled:hover {\n",
              "    background-color: var(--disabled-bg-color);\n",
              "    fill: var(--disabled-fill-color);\n",
              "    box-shadow: none;\n",
              "  }\n",
              "\n",
              "  .colab-df-spinner {\n",
              "    border: 2px solid var(--fill-color);\n",
              "    border-color: transparent;\n",
              "    border-bottom-color: var(--fill-color);\n",
              "    animation:\n",
              "      spin 1s steps(1) infinite;\n",
              "  }\n",
              "\n",
              "  @keyframes spin {\n",
              "    0% {\n",
              "      border-color: transparent;\n",
              "      border-bottom-color: var(--fill-color);\n",
              "      border-left-color: var(--fill-color);\n",
              "    }\n",
              "    20% {\n",
              "      border-color: transparent;\n",
              "      border-left-color: var(--fill-color);\n",
              "      border-top-color: var(--fill-color);\n",
              "    }\n",
              "    30% {\n",
              "      border-color: transparent;\n",
              "      border-left-color: var(--fill-color);\n",
              "      border-top-color: var(--fill-color);\n",
              "      border-right-color: var(--fill-color);\n",
              "    }\n",
              "    40% {\n",
              "      border-color: transparent;\n",
              "      border-right-color: var(--fill-color);\n",
              "      border-top-color: var(--fill-color);\n",
              "    }\n",
              "    60% {\n",
              "      border-color: transparent;\n",
              "      border-right-color: var(--fill-color);\n",
              "    }\n",
              "    80% {\n",
              "      border-color: transparent;\n",
              "      border-right-color: var(--fill-color);\n",
              "      border-bottom-color: var(--fill-color);\n",
              "    }\n",
              "    90% {\n",
              "      border-color: transparent;\n",
              "      border-bottom-color: var(--fill-color);\n",
              "    }\n",
              "  }\n",
              "</style>\n",
              "\n",
              "  <script>\n",
              "    async function quickchart(key) {\n",
              "      const quickchartButtonEl =\n",
              "        document.querySelector('#' + key + ' button');\n",
              "      quickchartButtonEl.disabled = true;  // To prevent multiple clicks.\n",
              "      quickchartButtonEl.classList.add('colab-df-spinner');\n",
              "      try {\n",
              "        const charts = await google.colab.kernel.invokeFunction(\n",
              "            'suggestCharts', [key], {});\n",
              "      } catch (error) {\n",
              "        console.error('Error during call to suggestCharts:', error);\n",
              "      }\n",
              "      quickchartButtonEl.classList.remove('colab-df-spinner');\n",
              "      quickchartButtonEl.classList.add('colab-df-quickchart-complete');\n",
              "    }\n",
              "    (() => {\n",
              "      let quickchartButtonEl =\n",
              "        document.querySelector('#df-d3e25e9c-1063-492b-b570-e58ef529b1bd button');\n",
              "      quickchartButtonEl.style.display =\n",
              "        google.colab.kernel.accessAllowed ? 'block' : 'none';\n",
              "    })();\n",
              "  </script>\n",
              "</div>\n",
              "\n",
              "    </div>\n",
              "  </div>\n"
            ],
            "application/vnd.google.colaboratory.intrinsic+json": {
              "type": "dataframe",
              "summary": "{\n  \"name\": \"print_observables(df)\",\n  \"rows\": 5,\n  \"fields\": [\n    {\n      \"column\": \"i\",\n      \"properties\": {\n        \"dtype\": \"number\",\n        \"std\": 0,\n        \"min\": 0,\n        \"max\": 2,\n        \"num_unique_values\": 3,\n        \"samples\": [\n          0,\n          1,\n          2\n        ],\n        \"semantic_type\": \"\",\n        \"description\": \"\"\n      }\n    },\n    {\n      \"column\": \"t\",\n      \"properties\": {\n        \"dtype\": \"number\",\n        \"std\": 0,\n        \"min\": 0,\n        \"max\": 1,\n        \"num_unique_values\": 2,\n        \"samples\": [\n          1,\n          0\n        ],\n        \"semantic_type\": \"\",\n        \"description\": \"\"\n      }\n    },\n    {\n      \"column\": \"X\",\n      \"properties\": {\n        \"dtype\": \"number\",\n        \"std\": 0.4840783091282061,\n        \"min\": 0.2572840801170508,\n        \"max\": 1.1922721434811057,\n        \"num_unique_values\": 3,\n        \"samples\": [\n          1.1922721434811057,\n          0.33706748267553094\n        ],\n        \"semantic_type\": \"\",\n        \"description\": \"\"\n      }\n    },\n    {\n      \"column\": \"J\",\n      \"properties\": {\n        \"dtype\": \"number\",\n        \"std\": 0.662304956582712,\n        \"min\": 1.042100831454656,\n        \"max\": 2.2512987136807596,\n        \"num_unique_values\": 2,\n        \"samples\": [\n          1.042100831454656,\n          2.2512987136807596\n        ],\n        \"semantic_type\": \"\",\n        \"description\": \"\"\n      }\n    },\n    {\n      \"column\": \"D\",\n      \"properties\": {\n        \"dtype\": \"number\",\n        \"std\": 0,\n        \"min\": 0,\n        \"max\": 1,\n        \"num_unique_values\": 2,\n        \"samples\": [\n          0,\n          1\n        ],\n        \"semantic_type\": \"\",\n        \"description\": \"\"\n      }\n    },\n    {\n      \"column\": \"W\",\n      \"properties\": {\n        \"dtype\": \"number\",\n        \"std\": 0,\n        \"min\": 0,\n        \"max\": 1,\n        \"num_unique_values\": 2,\n        \"samples\": [\n          1,\n          0\n        ],\n        \"semantic_type\": \"\",\n        \"description\": \"\"\n      }\n    },\n    {\n      \"column\": \"Y\",\n      \"properties\": {\n        \"dtype\": \"number\",\n        \"std\": 1.129282365583449,\n        \"min\": 4.63712608470277,\n        \"max\": 7.3677393411939365,\n        \"num_unique_values\": 5,\n        \"samples\": [\n          7.3677393411939365,\n          4.63712608470277\n        ],\n        \"semantic_type\": \"\",\n        \"description\": \"\"\n      }\n    }\n  ]\n}"
            }
          },
          "metadata": {},
          "execution_count": 5
        }
      ]
    },
    {
      "cell_type": "markdown",
      "source": [
        "### True effects:"
      ],
      "metadata": {
        "id": "Rysb968yGRn5"
      }
    },
    {
      "cell_type": "code",
      "source": [
        "def print_true_effects(df):\n",
        "\n",
        "    # Calculate the individual treatment effects\n",
        "    df['tau'] = f(df['H'], df['X'])\n",
        "\n",
        "    # Calculate and print the ATE\n",
        "    ATE = df['tau'].mean()\n",
        "    ATE_std = df['tau'].std() / np.sqrt(len(df))\n",
        "    print(f\"ATE: {ATE:.2f} ± {ATE_std:.2f}\")\n",
        "\n",
        "    # Calculate and print the ATT\n",
        "    ATT = df[df['D'] == 1]['tau'].mean()\n",
        "    ATT_std = df[df['D'] == 1]['tau'].std() / np.sqrt(df['D'].sum())\n",
        "    print(f\"ATT: {ATT:.2f} ± {ATT_std:.2f}\")\n",
        "\n",
        "    # Calculate and print the ATC\n",
        "    ATC = df[df['D'] == 0]['tau'].mean()\n",
        "    ATC_std = df[df['D'] == 0]['tau'].std() / np.sqrt(len(df) - df['D'].sum())\n",
        "    print(f\"ATC: {ATC:.2f} ± {ATC_std:.2f}\")"
      ],
      "metadata": {
        "id": "0v9gQQWcwMPz"
      },
      "execution_count": 6,
      "outputs": []
    },
    {
      "cell_type": "code",
      "source": [
        "print_true_effects(df)"
      ],
      "metadata": {
        "colab": {
          "base_uri": "https://localhost:8080/"
        },
        "id": "kNrYf6MdwkpX",
        "outputId": "09d1e772-77cf-4497-a9f6-55407ee179d3"
      },
      "execution_count": 7,
      "outputs": [
        {
          "output_type": "stream",
          "name": "stdout",
          "text": [
            "ATE: 0.23 ± 0.01\n",
            "ATT: 0.62 ± 0.01\n",
            "ATC: -0.30 ± 0.01\n"
          ]
        }
      ]
    },
    {
      "cell_type": "markdown",
      "source": [
        "We can look at the distribution of individual treatment effects, by treatment status"
      ],
      "metadata": {
        "id": "x8xv28D21ZdV"
      }
    },
    {
      "cell_type": "code",
      "source": [
        "# plot of distribution of individual treatment effects\n",
        "g = sns.histplot(data=df[df.t==1], x=\"tau\", hue=\"W\", bins=50)\n",
        "g.set(xlabel=\"\", title=\"Individual Treatment Effects\")"
      ],
      "metadata": {
        "colab": {
          "base_uri": "https://localhost:8080/",
          "height": 470
        },
        "id": "SzGAEuY91f0Q",
        "outputId": "a7a41b8b-6680-49e6-b36e-c5351ec38d01"
      },
      "execution_count": 8,
      "outputs": [
        {
          "output_type": "execute_result",
          "data": {
            "text/plain": [
              "[Text(0.5, 0, ''), Text(0.5, 1.0, 'Individual Treatment Effects')]"
            ]
          },
          "metadata": {},
          "execution_count": 8
        },
        {
          "output_type": "display_data",
          "data": {
            "text/plain": [
              "<Figure size 640x480 with 1 Axes>"
            ],
            "image/png": "[encoded data removed]"
          },
          "metadata": {}
        }
      ]
    },
    {
      "cell_type": "markdown",
      "source": [
        "Types are also reflected in true propensity scores."
      ],
      "metadata": {
        "id": "9wcY2rMD4WPY"
      }
    },
    {
      "cell_type": "code",
      "source": [
        "# propensity scores\n",
        "df['e'] = sp.special.expit(df[\"tau\"])\n",
        "\n",
        "# plot\n",
        "g = sns.histplot(data=df[df.t == 1], x=\"e\", hue=\"D\", bins=50)\n",
        "g.set(xlabel=\"\", title=\"'True' Propensity Scores\")"
      ],
      "metadata": {
        "colab": {
          "base_uri": "https://localhost:8080/",
          "height": 470
        },
        "id": "65WPb2t9X8fc",
        "outputId": "5f369b46-05d1-4b93-cda1-5c46de15c7e9"
      },
      "execution_count": 9,
      "outputs": [
        {
          "output_type": "execute_result",
          "data": {
            "text/plain": [
              "[Text(0.5, 0, ''), Text(0.5, 1.0, \"'True' Propensity Scores\")]"
            ]
          },
          "metadata": {},
          "execution_count": 9
        },
        {
          "output_type": "display_data",
          "data": {
            "text/plain": [
              "<Figure size 640x480 with 1 Axes>"
            ],
            "image/png": "[encoded data removed]"
          },
          "metadata": {}
        }
      ]
    },
    {
      "cell_type": "markdown",
      "source": [
        "### Analysis with observables\n",
        "\n",
        "### Linear DID:"
      ],
      "metadata": {
        "id": "Q8hZxSJdBbdq"
      }
    },
    {
      "cell_type": "markdown",
      "source": [
        "Before computing difference in differences, let's have a look at difference in means in treatment and control groups."
      ],
      "metadata": {
        "id": "GtBn7QyLBgV-"
      }
    },
    {
      "cell_type": "code",
      "source": [
        "g = sns.boxplot(data=df, x=\"D\", y=\"Y\", hue=\"t\")\n",
        "g.set(xlabel=\"\", title=\"Outcomes\", xticklabels=[\"Control\", \"Treatment\"])\n",
        "sns.move_legend(g, \"upper left\", bbox_to_anchor=(1, 0.6))"
      ],
      "metadata": {
        "colab": {
          "base_uri": "https://localhost:8080/",
          "height": 452
        },
        "id": "4ZZkYyiWFTbY",
        "outputId": "3d9df62e-239d-44f9-82e6-26d407ac0f0c"
      },
      "execution_count": 10,
      "outputs": [
        {
          "output_type": "display_data",
          "data": {
            "text/plain": [
              "<Figure size 640x480 with 1 Axes>"
            ],
            "image/png": "[encoded data removed]"
          },
          "metadata": {}
        }
      ]
    },
    {
      "cell_type": "markdown",
      "source": [
        "This is what we need to know in order to estimate the DiD.\n",
        "\n",
        "Now, let's compute the DiD:"
      ],
      "metadata": {
        "id": "PBxjRxeTIzAp"
      }
    },
    {
      "cell_type": "code",
      "source": [
        "smf.ols(\"Y ~ 1 + t * D + X\", data=df).fit(cov_type=\"cluster\", cov_kwds={\"groups\": df.i}).summary().tables[1]"
      ],
      "metadata": {
        "colab": {
          "base_uri": "https://localhost:8080/",
          "height": 147
        },
        "id": "C1c84tYrJgUk",
        "outputId": "1c44c1ce-e298-4556-883c-83b75cda78ee"
      },
      "execution_count": 11,
      "outputs": [
        {
          "output_type": "execute_result",
          "data": {
            "text/plain": [
              "<class 'statsmodels.iolib.table.SimpleTable'>"
            ],
            "text/html": [
              "<table class=\"simpletable\">\n",
              "<tr>\n",
              "      <td></td>         <th>coef</th>     <th>std err</th>      <th>z</th>      <th>P>|z|</th>  <th>[0.025</th>    <th>0.975]</th>  \n",
              "</tr>\n",
              "<tr>\n",
              "  <th>Intercept</th> <td>    4.7209</td> <td>    0.018</td> <td>  256.954</td> <td> 0.000</td> <td>    4.685</td> <td>    4.757</td>\n",
              "</tr>\n",
              "<tr>\n",
              "  <th>t</th>         <td>   -1.2135</td> <td>    0.011</td> <td> -112.295</td> <td> 0.000</td> <td>   -1.235</td> <td>   -1.192</td>\n",
              "</tr>\n",
              "<tr>\n",
              "  <th>D</th>         <td>    0.9661</td> <td>    0.021</td> <td>   46.056</td> <td> 0.000</td> <td>    0.925</td> <td>    1.007</td>\n",
              "</tr>\n",
              "<tr>\n",
              "  <th>t:D</th>       <td>    0.6313</td> <td>    0.017</td> <td>   37.356</td> <td> 0.000</td> <td>    0.598</td> <td>    0.664</td>\n",
              "</tr>\n",
              "<tr>\n",
              "  <th>X</th>         <td>    0.9933</td> <td>    0.013</td> <td>   76.168</td> <td> 0.000</td> <td>    0.968</td> <td>    1.019</td>\n",
              "</tr>\n",
              "</table>"
            ],
            "text/latex": "\\begin{center}\n\\begin{tabular}{lcccccc}\n\\toprule\n                   & \\textbf{coef} & \\textbf{std err} & \\textbf{z} & \\textbf{P$> |$z$|$} & \\textbf{[0.025} & \\textbf{0.975]}  \\\\\n\\midrule\n\\textbf{Intercept} &       4.7209  &        0.018     &   256.954  &         0.000        &        4.685    &        4.757     \\\\\n\\textbf{t}         &      -1.2135  &        0.011     &  -112.295  &         0.000        &       -1.235    &       -1.192     \\\\\n\\textbf{D}         &       0.9661  &        0.021     &    46.056  &         0.000        &        0.925    &        1.007     \\\\\n\\textbf{t:D}       &       0.6313  &        0.017     &    37.356  &         0.000        &        0.598    &        0.664     \\\\\n\\textbf{X}         &       0.9933  &        0.013     &    76.168  &         0.000        &        0.968    &        1.019     \\\\\n\\bottomrule\n\\end{tabular}\n\\end{center}"
          },
          "metadata": {},
          "execution_count": 11
        }
      ]
    },
    {
      "cell_type": "markdown",
      "source": [
        "### DML DID:"
      ],
      "metadata": {
        "id": "3HCuJsjTPRnz"
      }
    },
    {
      "cell_type": "code",
      "source": [
        "def final_stage(D, y, Dhat, yhat, phat):\n",
        "    # doubly robust quantity for every sample\n",
        "    phihat = ((D - Dhat) / (phat * (1 - Dhat))) * (y - yhat)\n",
        "    point = np.mean(phihat) / np.mean(D / phat)\n",
        "    # influence function\n",
        "    phihat = (phihat - point * (D / phat)) / np.mean(D / phat)\n",
        "    var = np.mean(np.square(phihat))\n",
        "    stderr = np.sqrt(var / D.shape[0])\n",
        "    return point, stderr\n",
        "\n",
        "\n",
        "def dr_att(X, D, y, modely, modeld, *, trimming=0.01, nfolds=5):\n",
        "\n",
        "#   DML for the ATT estimation\n",
        "\n",
        "#   Input\n",
        "#   X: the controls, pandas DataFrame\n",
        "#   D: treatment indicator, numpy array\n",
        "#   y: the outcome (the delta before and after intervention in DiD), numpy array\n",
        "#   modely: the ML model for predicting y (the delta Y_1 - Y_0 in DiD)\n",
        "#   modeld: the ML model for predicting the treatment D\n",
        "#   trimming: threshold below which to trim propensities, float (default=0.01)\n",
        "#   nfolds: the number of folds in cross-fitting, int (default=5)\n",
        "\n",
        "#   Output\n",
        "#   point: the point estimate of the treatment on the treated\n",
        "#   stderr: the standard error of the treatment effect\n",
        "#   yhat: cross-fitted predictions of the outcome y under control, E[y|D=0, X]\n",
        "#   Dhat: cross-fitted predictions of the treatment D, E[D|X]\n",
        "#   rmsey: the RMSE of the model y ~ X | D==0\n",
        "#   rmseD: the RMSE of the model D ~ X\n",
        "#   phat: the estimated treatment probability in each fold\n",
        "\n",
        "    cv = StratifiedKFold(n_splits=nfolds, shuffle=True, random_state=1234)\n",
        "    # fit a model E[y | D=0, X]\n",
        "    yhat = np.zeros(y.shape)\n",
        "    for train, test in cv.split(X, D):\n",
        "        modely.fit(X.iloc[train][D[train] == 0], y[train][D[train] == 0])\n",
        "        yhat[test] = modely.predict(X.iloc[test])\n",
        "    # fit a model E[D]\n",
        "    phat = cross_val_predict(DummyRegressor(), X, D, cv=cv)\n",
        "    # propensity scores E[D | X]\n",
        "    Dhat = cross_val_predict(modeld, X, D, cv=cv, method='predict_proba')[:, 1]\n",
        "    # trimm propensity score\n",
        "    Dhat = np.clip(Dhat, trimming, 1 - trimming)\n",
        "    # estimation of parameter\n",
        "    point, stderr = final_stage(D, y, Dhat, yhat, phat)\n",
        "    # nuisance function rmse's\n",
        "    rmsey = np.sqrt(np.mean((y - yhat)[D == 0]**2))\n",
        "    rmseD = np.sqrt(np.mean((D - Dhat)**2))\n",
        "    return point, stderr, yhat, Dhat, rmsey, rmseD, phat"
      ],
      "metadata": {
        "id": "3pECevXNQaI1"
      },
      "execution_count": 12,
      "outputs": []
    },
    {
      "cell_type": "markdown",
      "source": [
        "In order to compute the DML DID we need to choose the learners to estimare $m(X)$ and $g(X)$.\n",
        "\n",
        "The usual choice of $m(X)$ is a logistic regression, since outcome is binary (treatment assignment) and covariates are real continuous. Usual choice of $g(X)$ is Lasso. The choice is ideal for our case as outcome model is linear and propensity score model is logit."
      ],
      "metadata": {
        "id": "t-9xN-m_Qte4"
      }
    },
    {
      "cell_type": "code",
      "source": [
        "# prepare data\n",
        "# we need to have a dataset with these observations: for each i (∆Y,D,X)\n",
        "\n",
        "df_y = df['Y']\n",
        "df_dml = df_y.diff(1).iloc[1::2]\n",
        "\n",
        "# new indexes from 1 to 5000\n",
        "df_dml.index = np.arange(0, len(df_dml))\n",
        "\n",
        "# save even rows of values D and X of initial dataset\n",
        "df_dx = df[['D','X']].iloc[1::2]\n",
        "df_dx.index = np.arange(0, len(df_dx))\n",
        "df_dx\n",
        "\n",
        "# merge df_dml and df_dx\n",
        "df_dml = pd.concat([df_dml, df_dx], axis=1)"
      ],
      "metadata": {
        "id": "KWwNuCRacg_A"
      },
      "execution_count": 13,
      "outputs": []
    },
    {
      "cell_type": "code",
      "source": [
        "point, stderr, yhat, Dhat, rmsey, rmseD, phat = dr_att(df_dml[['X']], df_dml['D'], df_dml['Y'], LassoCV(), LogisticRegressionCV())"
      ],
      "metadata": {
        "id": "CQhysqdCQ3GI"
      },
      "execution_count": 14,
      "outputs": []
    },
    {
      "cell_type": "code",
      "source": [
        "print(f\"ATT: {point:.2f} ± {stderr:.2f}\")"
      ],
      "metadata": {
        "colab": {
          "base_uri": "https://localhost:8080/"
        },
        "id": "GH3TmdkncG0F",
        "outputId": "24561fe1-8b96-48e3-e4d0-2d0dc7feb8c2"
      },
      "execution_count": 15,
      "outputs": [
        {
          "output_type": "stream",
          "name": "stdout",
          "text": [
            "ATT: 0.62 ± 0.02\n"
          ]
        }
      ]
    },
    {
      "cell_type": "markdown",
      "source": [
        "The DML works pretty well, let's look at the estimates of the propensity scores"
      ],
      "metadata": {
        "id": "g32r3Tl84pg7"
      }
    },
    {
      "cell_type": "code",
      "source": [
        "fig, axes = plt.subplots(1, 2, figsize=(12, 5))\n",
        "\n",
        "sns.histplot(data=df[df.t == 1], x=\"e\", hue=\"D\", bins=50, ax=axes[0])\n",
        "axes[0].set(xlabel=\"\", title=\"True Propensity Scores\")\n",
        "\n",
        "sns.histplot(x=Dhat, hue=df_dml[\"D\"], bins=50, ax=axes[1])\n",
        "axes[1].set(xlabel=\"\", title=\"Estimated Propensity Scores\")\n",
        "\n",
        "plt.figure(figsize=(6,2.5))\n",
        "plt.show()"
      ],
      "metadata": {
        "colab": {
          "base_uri": "https://localhost:8080/",
          "height": 486
        },
        "id": "DO_5zXu7CzJ5",
        "outputId": "cc8c6f57-33f9-4715-adbd-ba078c82bd3d"
      },
      "execution_count": 16,
      "outputs": [
        {
          "output_type": "display_data",
          "data": {
            "text/plain": [
              "<Figure size 1200x500 with 2 Axes>"
            ],
            "image/png": "[encoded data removed]"
          },
          "metadata": {}
        },
        {
          "output_type": "display_data",
          "data": {
            "text/plain": [
              "<Figure size 600x250 with 0 Axes>"
            ]
          },
          "metadata": {}
        }
      ]
    },
    {
      "cell_type": "markdown",
      "source": [
        "Propensity scores (i.e. $m(X)$) are misspecified, but model correctly estimates the ATT, how is this possible?"
      ],
      "metadata": {
        "id": "_8N1XerKFqn5"
      }
    },
    {
      "cell_type": "markdown",
      "source": [
        "### What if the parallel trends assumption is not satisfied?\n"
      ],
      "metadata": {
        "id": "paS1HF2G28Y-"
      }
    },
    {
      "cell_type": "markdown",
      "source": [
        "Assume that temporal shocks are not additive but multiplicative:\n",
        "\\begin{equation*}\n",
        "Y_{i,t} = J_t*(f(H_i,X_i)W_{i,t}+H_i+X_i+\\epsilon_{i,t})\n",
        "\\end{equation*}"
      ],
      "metadata": {
        "id": "TJr0HcUIeZ49"
      }
    },
    {
      "cell_type": "code",
      "source": [
        "def assign_outcome_2(df):\n",
        "  df[\"Y\"] = df[\"J\"] * (f(df[\"H\"], df[\"X\"]) * df[\"W\"] + df[\"H\"] + df[\"X\"] + df[\"error\"])\n",
        "  return df"
      ],
      "metadata": {
        "id": "QdQAQhwrXhFF"
      },
      "execution_count": 17,
      "outputs": []
    },
    {
      "cell_type": "code",
      "source": [
        "# generate data set\n",
        "\n",
        "df_2 = generate_data(5000, 2)\n",
        "df_2 = assign_treatment(df_2)\n",
        "df_2 = assign_outcome_2(df_2)\n",
        "\n",
        "# print observables\n",
        "\n",
        "print_observables(df_2)"
      ],
      "metadata": {
        "colab": {
          "base_uri": "https://localhost:8080/",
          "height": 206
        },
        "id": "Z-AORNuhfal2",
        "outputId": "90e21279-86ae-48ed-98ba-838ab28a2038"
      },
      "execution_count": 18,
      "outputs": [
        {
          "output_type": "execute_result",
          "data": {
            "text/plain": [
              "   i  t         X         J  D  W          Y\n",
              "0  0  0  0.064217  1.792603  0  0   4.215528\n",
              "1  0  1  0.064217  2.225087  0  0   5.431602\n",
              "2  1  0  0.601694  1.792603  1  0   9.377039\n",
              "3  1  1  0.601694  2.225087  1  1  10.954187\n",
              "4  2  0  0.044100  1.792603  0  0   3.853829"
            ],
            "text/html": [
              "\n",
              "  <div id=\"df-b03708a8-807c-43e8-98ad-fe78109758c6\" class=\"colab-df-container\">\n",
              "    <div>\n",
              "<style scoped>\n",
              "    .dataframe tbody tr th:only-of-type {\n",
              "        vertical-align: middle;\n",
              "    }\n",
              "\n",
              "    .dataframe tbody tr th {\n",
              "        vertical-align: top;\n",
              "    }\n",
              "\n",
              "    .dataframe thead th {\n",
              "        text-align: right;\n",
              "    }\n",
              "</style>\n",
              "<table border=\"1\" class=\"dataframe\">\n",
              "  <thead>\n",
              "    <tr style=\"text-align: right;\">\n",
              "      <th></th>\n",
              "      <th>i</th>\n",
              "      <th>t</th>\n",
              "      <th>X</th>\n",
              "      <th>J</th>\n",
              "      <th>D</th>\n",
              "      <th>W</th>\n",
              "      <th>Y</th>\n",
              "    </tr>\n",
              "  </thead>\n",
              "  <tbody>\n",
              "    <tr>\n",
              "      <th>0</th>\n",
              "      <td>0</td>\n",
              "      <td>0</td>\n",
              "      <td>0.064217</td>\n",
              "      <td>1.792603</td>\n",
              "      <td>0</td>\n",
              "      <td>0</td>\n",
              "      <td>4.215528</td>\n",
              "    </tr>\n",
              "    <tr>\n",
              "      <th>1</th>\n",
              "      <td>0</td>\n",
              "      <td>1</td>\n",
              "      <td>0.064217</td>\n",
              "      <td>2.225087</td>\n",
              "      <td>0</td>\n",
              "      <td>0</td>\n",
              "      <td>5.431602</td>\n",
              "    </tr>\n",
              "    <tr>\n",
              "      <th>2</th>\n",
              "      <td>1</td>\n",
              "      <td>0</td>\n",
              "      <td>0.601694</td>\n",
              "      <td>1.792603</td>\n",
              "      <td>1</td>\n",
              "      <td>0</td>\n",
              "      <td>9.377039</td>\n",
              "    </tr>\n",
              "    <tr>\n",
              "      <th>3</th>\n",
              "      <td>1</td>\n",
              "      <td>1</td>\n",
              "      <td>0.601694</td>\n",
              "      <td>2.225087</td>\n",
              "      <td>1</td>\n",
              "      <td>1</td>\n",
              "      <td>10.954187</td>\n",
              "    </tr>\n",
              "    <tr>\n",
              "      <th>4</th>\n",
              "      <td>2</td>\n",
              "      <td>0</td>\n",
              "      <td>0.044100</td>\n",
              "      <td>1.792603</td>\n",
              "      <td>0</td>\n",
              "      <td>0</td>\n",
              "      <td>3.853829</td>\n",
              "    </tr>\n",
              "  </tbody>\n",
              "</table>\n",
              "</div>\n",
              "    <div class=\"colab-df-buttons\">\n",
              "\n",
              "  <div class=\"colab-df-container\">\n",
              "    <button class=\"colab-df-convert\" onclick=\"convertToInteractive('df-b03708a8-807c-43e8-98ad-fe78109758c6')\"\n",
              "            title=\"Convert this dataframe to an interactive table.\"\n",
              "            style=\"display:none;\">\n",
              "\n",
              "  <svg xmlns=\"http://www.w3.org/2000/svg\" height=\"24px\" viewBox=\"0 -960 960 960\">\n",
              "    <path d=\"M120-120v-720h720v720H120Zm60-500h600v-160H180v160Zm220 220h160v-160H400v160Zm0 220h160v-160H400v160ZM180-400h160v-160H180v160Zm440 0h160v-160H620v160ZM180-180h160v-160H180v160Zm440 0h160v-160H620v160Z\"/>\n",
              "  </svg>\n",
              "    </button>\n",
              "\n",
              "  <style>\n",
              "    .colab-df-container {\n",
              "      display:flex;\n",
              "      gap: 12px;\n",
              "    }\n",
              "\n",
              "    .colab-df-convert {\n",
              "      background-color: #E8F0FE;\n",
              "      border: none;\n",
              "      border-radius: 50%;\n",
              "      cursor: pointer;\n",
              "      display: none;\n",
              "      fill: #1967D2;\n",
              "      height: 32px;\n",
              "      padding: 0 0 0 0;\n",
              "      width: 32px;\n",
              "    }\n",
              "\n",
              "    .colab-df-convert:hover {\n",
              "      background-color: #E2EBFA;\n",
              "      box-shadow: 0px 1px 2px rgba(60, 64, 67, 0.3), 0px 1px 3px 1px rgba(60, 64, 67, 0.15);\n",
              "      fill: #174EA6;\n",
              "    }\n",
              "\n",
              "    .colab-df-buttons div {\n",
              "      margin-bottom: 4px;\n",
              "    }\n",
              "\n",
              "    [theme=dark] .colab-df-convert {\n",
              "      background-color: #3B4455;\n",
              "      fill: #D2E3FC;\n",
              "    }\n",
              "\n",
              "    [theme=dark] .colab-df-convert:hover {\n",
              "      background-color: #434B5C;\n",
              "      box-shadow: 0px 1px 3px 1px rgba(0, 0, 0, 0.15);\n",
              "      filter: drop-shadow(0px 1px 2px rgba(0, 0, 0, 0.3));\n",
              "      fill: #FFFFFF;\n",
              "    }\n",
              "  </style>\n",
              "\n",
              "    <script>\n",
              "      const buttonEl =\n",
              "        document.querySelector('#df-b03708a8-807c-43e8-98ad-fe78109758c6 button.colab-df-convert');\n",
              "      buttonEl.style.display =\n",
              "        google.colab.kernel.accessAllowed ? 'block' : 'none';\n",
              "\n",
              "      async function convertToInteractive(key) {\n",
              "        const element = document.querySelector('#df-b03708a8-807c-43e8-98ad-fe78109758c6');\n",
              "        const dataTable =\n",
              "          await google.colab.kernel.invokeFunction('convertToInteractive',\n",
              "                                                    [key], {});\n",
              "        if (!dataTable) return;\n",
              "\n",
              "        const docLinkHtml = 'Like what you see? Visit the ' +\n",
              "          '<a target=\"_blank\" href=https://colab.research.google.com/notebooks/data_table.ipynb>data table notebook</a>'\n",
              "          + ' to learn more about interactive tables.';\n",
              "        element.innerHTML = '';\n",
              "        dataTable['output_type'] = 'display_data';\n",
              "        await google.colab.output.renderOutput(dataTable, element);\n",
              "        const docLink = document.createElement('div');\n",
              "        docLink.innerHTML = docLinkHtml;\n",
              "        element.appendChild(docLink);\n",
              "      }\n",
              "    </script>\n",
              "  </div>\n",
              "\n",
              "\n",
              "<div id=\"df-90a9069f-300d-4137-ba81-99b3d33859ba\">\n",
              "  <button class=\"colab-df-quickchart\" onclick=\"quickchart('df-90a9069f-300d-4137-ba81-99b3d33859ba')\"\n",
              "            title=\"Suggest charts\"\n",
              "            style=\"display:none;\">\n",
              "\n",
              "<svg xmlns=\"http://www.w3.org/2000/svg\" height=\"24px\"viewBox=\"0 0 24 24\"\n",
              "     width=\"24px\">\n",
              "    <g>\n",
              "        <path d=\"M19 3H5c-1.1 0-2 .9-2 2v14c0 1.1.9 2 2 2h14c1.1 0 2-.9 2-2V5c0-1.1-.9-2-2-2zM9 17H7v-7h2v7zm4 0h-2V7h2v10zm4 0h-2v-4h2v4z\"/>\n",
              "    </g>\n",
              "</svg>\n",
              "  </button>\n",
              "\n",
              "<style>\n",
              "  .colab-df-quickchart {\n",
              "      --bg-color: #E8F0FE;\n",
              "      --fill-color: #1967D2;\n",
              "      --hover-bg-color: #E2EBFA;\n",
              "      --hover-fill-color: #174EA6;\n",
              "      --disabled-fill-color: #AAA;\n",
              "      --disabled-bg-color: #DDD;\n",
              "  }\n",
              "\n",
              "  [theme=dark] .colab-df-quickchart {\n",
              "      --bg-color: #3B4455;\n",
              "      --fill-color: #D2E3FC;\n",
              "      --hover-bg-color: #434B5C;\n",
              "      --hover-fill-color: #FFFFFF;\n",
              "      --disabled-bg-color: #3B4455;\n",
              "      --disabled-fill-color: #666;\n",
              "  }\n",
              "\n",
              "  .colab-df-quickchart {\n",
              "    background-color: var(--bg-color);\n",
              "    border: none;\n",
              "    border-radius: 50%;\n",
              "    cursor: pointer;\n",
              "    display: none;\n",
              "    fill: var(--fill-color);\n",
              "    height: 32px;\n",
              "    padding: 0;\n",
              "    width: 32px;\n",
              "  }\n",
              "\n",
              "  .colab-df-quickchart:hover {\n",
              "    background-color: var(--hover-bg-color);\n",
              "    box-shadow: 0 1px 2px rgba(60, 64, 67, 0.3), 0 1px 3px 1px rgba(60, 64, 67, 0.15);\n",
              "    fill: var(--button-hover-fill-color);\n",
              "  }\n",
              "\n",
              "  .colab-df-quickchart-complete:disabled,\n",
              "  .colab-df-quickchart-complete:disabled:hover {\n",
              "    background-color: var(--disabled-bg-color);\n",
              "    fill: var(--disabled-fill-color);\n",
              "    box-shadow: none;\n",
              "  }\n",
              "\n",
              "  .colab-df-spinner {\n",
              "    border: 2px solid var(--fill-color);\n",
              "    border-color: transparent;\n",
              "    border-bottom-color: var(--fill-color);\n",
              "    animation:\n",
              "      spin 1s steps(1) infinite;\n",
              "  }\n",
              "\n",
              "  @keyframes spin {\n",
              "    0% {\n",
              "      border-color: transparent;\n",
              "      border-bottom-color: var(--fill-color);\n",
              "      border-left-color: var(--fill-color);\n",
              "    }\n",
              "    20% {\n",
              "      border-color: transparent;\n",
              "      border-left-color: var(--fill-color);\n",
              "      border-top-color: var(--fill-color);\n",
              "    }\n",
              "    30% {\n",
              "      border-color: transparent;\n",
              "      border-left-color: var(--fill-color);\n",
              "      border-top-color: var(--fill-color);\n",
              "      border-right-color: var(--fill-color);\n",
              "    }\n",
              "    40% {\n",
              "      border-color: transparent;\n",
              "      border-right-color: var(--fill-color);\n",
              "      border-top-color: var(--fill-color);\n",
              "    }\n",
              "    60% {\n",
              "      border-color: transparent;\n",
              "      border-right-color: var(--fill-color);\n",
              "    }\n",
              "    80% {\n",
              "      border-color: transparent;\n",
              "      border-right-color: var(--fill-color);\n",
              "      border-bottom-color: var(--fill-color);\n",
              "    }\n",
              "    90% {\n",
              "      border-color: transparent;\n",
              "      border-bottom-color: var(--fill-color);\n",
              "    }\n",
              "  }\n",
              "</style>\n",
              "\n",
              "  <script>\n",
              "    async function quickchart(key) {\n",
              "      const quickchartButtonEl =\n",
              "        document.querySelector('#' + key + ' button');\n",
              "      quickchartButtonEl.disabled = true;  // To prevent multiple clicks.\n",
              "      quickchartButtonEl.classList.add('colab-df-spinner');\n",
              "      try {\n",
              "        const charts = await google.colab.kernel.invokeFunction(\n",
              "            'suggestCharts', [key], {});\n",
              "      } catch (error) {\n",
              "        console.error('Error during call to suggestCharts:', error);\n",
              "      }\n",
              "      quickchartButtonEl.classList.remove('colab-df-spinner');\n",
              "      quickchartButtonEl.classList.add('colab-df-quickchart-complete');\n",
              "    }\n",
              "    (() => {\n",
              "      let quickchartButtonEl =\n",
              "        document.querySelector('#df-90a9069f-300d-4137-ba81-99b3d33859ba button');\n",
              "      quickchartButtonEl.style.display =\n",
              "        google.colab.kernel.accessAllowed ? 'block' : 'none';\n",
              "    })();\n",
              "  </script>\n",
              "</div>\n",
              "\n",
              "    </div>\n",
              "  </div>\n"
            ],
            "application/vnd.google.colaboratory.intrinsic+json": {
              "type": "dataframe",
              "summary": "{\n  \"name\": \"print_observables(df_2)\",\n  \"rows\": 5,\n  \"fields\": [\n    {\n      \"column\": \"i\",\n      \"properties\": {\n        \"dtype\": \"number\",\n        \"std\": 0,\n        \"min\": 0,\n        \"max\": 2,\n        \"num_unique_values\": 3,\n        \"samples\": [\n          0,\n          1,\n          2\n        ],\n        \"semantic_type\": \"\",\n        \"description\": \"\"\n      }\n    },\n    {\n      \"column\": \"t\",\n      \"properties\": {\n        \"dtype\": \"number\",\n        \"std\": 0,\n        \"min\": 0,\n        \"max\": 1,\n        \"num_unique_values\": 2,\n        \"samples\": [\n          1,\n          0\n        ],\n        \"semantic_type\": \"\",\n        \"description\": \"\"\n      }\n    },\n    {\n      \"column\": \"X\",\n      \"properties\": {\n        \"dtype\": \"number\",\n        \"std\": 0.2981741851171453,\n        \"min\": 0.04410038402081198,\n        \"max\": 0.6016942217700064,\n        \"num_unique_values\": 3,\n        \"samples\": [\n          0.0642173068126055,\n          0.6016942217700064\n        ],\n        \"semantic_type\": \"\",\n        \"description\": \"\"\n      }\n    },\n    {\n      \"column\": \"J\",\n      \"properties\": {\n        \"dtype\": \"number\",\n        \"std\": 0.23688117600730102,\n        \"min\": 1.7926029716204526,\n        \"max\": 2.225086850112287,\n        \"num_unique_values\": 2,\n        \"samples\": [\n          2.225086850112287,\n          1.7926029716204526\n        ],\n        \"semantic_type\": \"\",\n        \"description\": \"\"\n      }\n    },\n    {\n      \"column\": \"D\",\n      \"properties\": {\n        \"dtype\": \"number\",\n        \"std\": 0,\n        \"min\": 0,\n        \"max\": 1,\n        \"num_unique_values\": 2,\n        \"samples\": [\n          1,\n          0\n        ],\n        \"semantic_type\": \"\",\n        \"description\": \"\"\n      }\n    },\n    {\n      \"column\": \"W\",\n      \"properties\": {\n        \"dtype\": \"number\",\n        \"std\": 0,\n        \"min\": 0,\n        \"max\": 1,\n        \"num_unique_values\": 2,\n        \"samples\": [\n          1,\n          0\n        ],\n        \"semantic_type\": \"\",\n        \"description\": \"\"\n      }\n    },\n    {\n      \"column\": \"Y\",\n      \"properties\": {\n        \"dtype\": \"number\",\n        \"std\": 3.206427233949902,\n        \"min\": 3.853829162261138,\n        \"max\": 10.95418745613204,\n        \"num_unique_values\": 5,\n        \"samples\": [\n          5.431601622820086,\n          3.853829162261138\n        ],\n        \"semantic_type\": \"\",\n        \"description\": \"\"\n      }\n    }\n  ]\n}"
            }
          },
          "metadata": {},
          "execution_count": 18
        }
      ]
    },
    {
      "cell_type": "markdown",
      "source": [
        "Let's compute the true effect first:"
      ],
      "metadata": {
        "id": "I7lZweO0XlCx"
      }
    },
    {
      "cell_type": "code",
      "source": [
        "# true effect\n",
        "print_true_effects(df_2)"
      ],
      "metadata": {
        "colab": {
          "base_uri": "https://localhost:8080/"
        },
        "id": "VKKpmEp3Yz95",
        "outputId": "7bda6589-3a58-4430-de88-394125fc4383"
      },
      "execution_count": 19,
      "outputs": [
        {
          "output_type": "stream",
          "name": "stdout",
          "text": [
            "ATE: 0.23 ± 0.01\n",
            "ATT: 0.63 ± 0.01\n",
            "ATC: -0.30 ± 0.01\n"
          ]
        }
      ]
    },
    {
      "cell_type": "markdown",
      "source": [
        "### Linear DiD:"
      ],
      "metadata": {
        "id": "hDaupwubWTWo"
      }
    },
    {
      "cell_type": "code",
      "source": [
        "smf.ols(\"Y ~ 1 + t * D + X\", data=df_2).fit(cov_type=\"cluster\", cov_kwds={\"groups\": df_2.i}).summary().tables[1]"
      ],
      "metadata": {
        "colab": {
          "base_uri": "https://localhost:8080/",
          "height": 147
        },
        "id": "YJgFCazuXc0f",
        "outputId": "99d289f4-91f7-4774-cd15-98418fb2fa11"
      },
      "execution_count": 20,
      "outputs": [
        {
          "output_type": "execute_result",
          "data": {
            "text/plain": [
              "<class 'statsmodels.iolib.table.SimpleTable'>"
            ],
            "text/html": [
              "<table class=\"simpletable\">\n",
              "<tr>\n",
              "      <td></td>         <th>coef</th>     <th>std err</th>      <th>z</th>      <th>P>|z|</th>  <th>[0.025</th>    <th>0.975]</th>  \n",
              "</tr>\n",
              "<tr>\n",
              "  <th>Intercept</th> <td>    4.2242</td> <td>    0.048</td> <td>   87.632</td> <td> 0.000</td> <td>    4.130</td> <td>    4.319</td>\n",
              "</tr>\n",
              "<tr>\n",
              "  <th>t</th>         <td>    1.3768</td> <td>    0.033</td> <td>   41.578</td> <td> 0.000</td> <td>    1.312</td> <td>    1.442</td>\n",
              "</tr>\n",
              "<tr>\n",
              "  <th>D</th>         <td>    1.5560</td> <td>    0.056</td> <td>   27.767</td> <td> 0.000</td> <td>    1.446</td> <td>    1.666</td>\n",
              "</tr>\n",
              "<tr>\n",
              "  <th>t:D</th>       <td>    2.0766</td> <td>    0.058</td> <td>   35.892</td> <td> 0.000</td> <td>    1.963</td> <td>    2.190</td>\n",
              "</tr>\n",
              "<tr>\n",
              "  <th>X</th>         <td>    2.0613</td> <td>    0.034</td> <td>   59.894</td> <td> 0.000</td> <td>    1.994</td> <td>    2.129</td>\n",
              "</tr>\n",
              "</table>"
            ],
            "text/latex": "\\begin{center}\n\\begin{tabular}{lcccccc}\n\\toprule\n                   & \\textbf{coef} & \\textbf{std err} & \\textbf{z} & \\textbf{P$> |$z$|$} & \\textbf{[0.025} & \\textbf{0.975]}  \\\\\n\\midrule\n\\textbf{Intercept} &       4.2242  &        0.048     &    87.632  &         0.000        &        4.130    &        4.319     \\\\\n\\textbf{t}         &       1.3768  &        0.033     &    41.578  &         0.000        &        1.312    &        1.442     \\\\\n\\textbf{D}         &       1.5560  &        0.056     &    27.767  &         0.000        &        1.446    &        1.666     \\\\\n\\textbf{t:D}       &       2.0766  &        0.058     &    35.892  &         0.000        &        1.963    &        2.190     \\\\\n\\textbf{X}         &       2.0613  &        0.034     &    59.894  &         0.000        &        1.994    &        2.129     \\\\\n\\bottomrule\n\\end{tabular}\n\\end{center}"
          },
          "metadata": {},
          "execution_count": 20
        }
      ]
    },
    {
      "cell_type": "markdown",
      "source": [
        "### DML DiD Effect:"
      ],
      "metadata": {
        "id": "qox8BJ42WQR-"
      }
    },
    {
      "cell_type": "code",
      "source": [
        "# prepare data\n",
        "# we need to have a dataset with these observations: for each i (∆Y,D,X)\n",
        "\n",
        "df_2_y = df_2['Y']\n",
        "df_2_dml = df_2_y.diff(1).iloc[1::2]\n",
        "\n",
        "# new indexes from 1 to 5000\n",
        "df_2_dml.index = np.arange(0, len(df_2_dml))\n",
        "\n",
        "# save even rows of values D and X of initial dataset\n",
        "df_2_dx = df_2[['D','X']].iloc[1::2]\n",
        "df_2_dx.index = np.arange(0, len(df_2_dx))\n",
        "df_2_dx\n",
        "\n",
        "# merge df_dml and df_dx\n",
        "df_2_dml = pd.concat([df_2_dml, df_2_dx], axis=1)"
      ],
      "metadata": {
        "id": "zIZhieCe3I6M"
      },
      "execution_count": 21,
      "outputs": []
    },
    {
      "cell_type": "code",
      "source": [
        "point_2, stderr_2, yhat_2, Dhat_2, rmsey_2, rmseD_2, phat_2 = dr_att(df_2_dml[['X']], df_2_dml['D'], df_2_dml['Y'], LassoCV(), LGBMClassifier(n_estimators=50, verbose=-1), trimming=0)"
      ],
      "metadata": {
        "id": "dRIsQUKAUnOd"
      },
      "execution_count": 22,
      "outputs": []
    },
    {
      "cell_type": "code",
      "source": [
        "print(f\"ATT: {point_2:.2f} ± {stderr_2:.2f}\")"
      ],
      "metadata": {
        "colab": {
          "base_uri": "https://localhost:8080/"
        },
        "id": "L_MeqmbRWDG-",
        "outputId": "f5acd50f-6d2a-4e53-8523-ec4b07d2d4aa"
      },
      "execution_count": 23,
      "outputs": [
        {
          "output_type": "stream",
          "name": "stdout",
          "text": [
            "ATT: 1.96 ± 0.07\n"
          ]
        }
      ]
    },
    {
      "cell_type": "markdown",
      "source": [
        "We can look at the propensity scores again:"
      ],
      "metadata": {
        "id": "G_zbWHUdnSj3"
      }
    },
    {
      "cell_type": "code",
      "source": [
        "fig, axes = plt.subplots(1, 2, figsize=(12, 5))\n",
        "\n",
        "sns.histplot(data=df[df.t == 1], x=\"e\", hue=\"D\", bins=50, ax=axes[0])\n",
        "axes[0].set(xlabel=\"\", title=\"True Propensity Scores\")\n",
        "\n",
        "sns.histplot(x=Dhat_2, hue=df_2_dml[\"D\"], bins=50, ax=axes[1])\n",
        "axes[1].set(xlabel=\"\", title=\"Estimated Propensity Scores\")\n",
        "\n",
        "plt.figure(figsize=(6,2.5))\n",
        "plt.show()"
      ],
      "metadata": {
        "colab": {
          "base_uri": "https://localhost:8080/",
          "height": 486
        },
        "id": "MV3PCbtanZlR",
        "outputId": "5f4a143e-894b-4e46-cf0b-b2ee0721ea83"
      },
      "execution_count": 24,
      "outputs": [
        {
          "output_type": "display_data",
          "data": {
            "text/plain": [
              "<Figure size 1200x500 with 2 Axes>"
            ],
            "image/png": "[encoded data removed]"
          },
          "metadata": {}
        },
        {
          "output_type": "display_data",
          "data": {
            "text/plain": [
              "<Figure size 600x250 with 0 Axes>"
            ]
          },
          "metadata": {}
        }
      ]
    },
    {
      "cell_type": "markdown",
      "source": [
        "Estimated propensity scores are much more “binned” than their logistic regression equivalent, as expected from a forest method."
      ],
      "metadata": {
        "id": "vjZQF6dUI2SJ"
      }
    },
    {
      "cell_type": "markdown",
      "source": [
        "What if we use a Logistic Regression for PS estimation here again?"
      ],
      "metadata": {
        "id": "32_nTgyroeKC"
      }
    },
    {
      "cell_type": "code",
      "source": [
        "point_3, stderr_3, yhat_3, Dhat_3, rmsey_3, rmseD_3, phat_3 = dr_att(df_2_dml[['X']], df_2_dml['D'], df_2_dml['Y'], LassoCV(), LogisticRegressionCV(), trimming=0)"
      ],
      "metadata": {
        "id": "lNGAjLvaocXP"
      },
      "execution_count": 25,
      "outputs": []
    },
    {
      "cell_type": "code",
      "source": [
        "print(f\"ATT: {point_3:.2f} ± {stderr_3:.2f}\")"
      ],
      "metadata": {
        "colab": {
          "base_uri": "https://localhost:8080/"
        },
        "id": "gedMttIJosZb",
        "outputId": "82dd602e-27e6-4474-8d12-0ea515ac6551"
      },
      "execution_count": 26,
      "outputs": [
        {
          "output_type": "stream",
          "name": "stdout",
          "text": [
            "ATT: 1.92 ± 0.06\n"
          ]
        }
      ]
    },
    {
      "cell_type": "markdown",
      "source": [
        "The value of the ATT with (LogisticRegressionCV,LassoCV) is really similar to the one obtained using linear DiD."
      ],
      "metadata": {
        "id": "EF2OELzfpVUy"
      }
    },
    {
      "cell_type": "code",
      "source": [
        "fig, axes = plt.subplots(1, 2, figsize=(12, 5))\n",
        "\n",
        "sns.histplot(data=df[df.t == 1], x=\"e\", hue=\"D\", bins=50, ax=axes[0])\n",
        "axes[0].set(xlabel=\"\", title=\"True Propensity Scores\")\n",
        "\n",
        "sns.histplot(x=Dhat_3, hue=df_2_dml[\"D\"], bins=50, ax=axes[1])\n",
        "axes[1].set(xlabel=\"\", title=\"Estimated Propensity Scores\")\n",
        "\n",
        "plt.figure(figsize=(6,2.5))\n",
        "plt.show()"
      ],
      "metadata": {
        "colab": {
          "base_uri": "https://localhost:8080/",
          "height": 486
        },
        "id": "mo2C1omeowGn",
        "outputId": "24b60d11-8a94-4f4b-b815-065820205881"
      },
      "execution_count": 27,
      "outputs": [
        {
          "output_type": "display_data",
          "data": {
            "text/plain": [
              "<Figure size 1200x500 with 2 Axes>"
            ],
            "image/png": "[encoded data removed]"
          },
          "metadata": {}
        },
        {
          "output_type": "display_data",
          "data": {
            "text/plain": [
              "<Figure size 600x250 with 0 Axes>"
            ]
          },
          "metadata": {}
        }
      ]
    },
    {
      "cell_type": "markdown",
      "source": [
        "We can also try using neural networks for a non-linear regression of Y on X, although this attempt, detailed in the Appendix, wasn't successful."
      ],
      "metadata": {
        "id": "yLHUx7oXAzn9"
      }
    },
    {
      "cell_type": "markdown",
      "source": [
        "## 🙅**Warning: We are cheating**🙅\n",
        "\n"
      ],
      "metadata": {
        "id": "A7pO4t57E1J8"
      }
    },
    {
      "cell_type": "markdown",
      "source": [
        "In practice, selecting the appropriate method can be challenging. While RMSE gives some guidance, it doesn't give information about similarity between the estimated values and the true underlying effects. Moreover, in many cases, like ours, RMSE values are really similar to each other and it's hard to say that one method is better than the other because its RMSE is 10e-x orders of magnitude lower, with x arbitrarily big."
      ],
      "metadata": {
        "id": "ApWTbFesAvM4"
      }
    },
    {
      "cell_type": "code",
      "source": [
        "# if we consider at least 4 numbers after comma\n",
        "print(f\"RMSE of LGBMClassifier: {rmsey_2:.5f}\")\n",
        "print(f\"RMSE of LogisticRegressionCV: {rmsey_3:.5f}\")"
      ],
      "metadata": {
        "colab": {
          "base_uri": "https://localhost:8080/"
        },
        "id": "k27fKrGqERV4",
        "outputId": "3af959bc-692d-4d0e-9c52-210c9cae65ee"
      },
      "execution_count": 28,
      "outputs": [
        {
          "output_type": "stream",
          "name": "stdout",
          "text": [
            "RMSE of LGBMClassifier: 1.51417\n",
            "RMSE of LogisticRegressionCV: 1.51417\n"
          ]
        }
      ]
    },
    {
      "cell_type": "markdown",
      "source": [
        "We will discuss model selection in the empirical section."
      ],
      "metadata": {
        "id": "X9sD0xVoJWwn"
      }
    },
    {
      "cell_type": "markdown",
      "source": [
        "# Empirical data"
      ],
      "metadata": {
        "id": "5MHOu-0qJiM-"
      }
    },
    {
      "cell_type": "markdown",
      "source": [
        "#### IRCA\n",
        "Immigration Reform and Control Act (1986).\n",
        "\n",
        "IRCA provided access to legal status for undocumented immigrants who had been living in the U.S. continuously since before January 1, 1982.\n",
        "\n",
        "Approximately 2.7 million people were granted legal status under the act."
      ],
      "metadata": {
        "id": "7EqdL6gIJsgu"
      }
    },
    {
      "cell_type": "code",
      "source": [
        "# read CSV\n",
        "df_IRCA = pd.read_csv('CENSUSdat2000.csv', nrows=995957)\n",
        "\n",
        "# shape of df_IRCA (double check step)\n",
        "print(df_IRCA.shape)"
      ],
      "metadata": {
        "id": "pEdc-_fSwqLx",
        "colab": {
          "base_uri": "https://localhost:8080/"
        },
        "outputId": "3f481dd5-e84b-4307-c779-8bdb73cf2d80"
      },
      "execution_count": 57,
      "outputs": [
        {
          "output_type": "stream",
          "name": "stdout",
          "text": [
            "(995957, 97)\n"
          ]
        }
      ]
    },
    {
      "cell_type": "code",
      "source": [
        "# Clean data\n",
        "\n",
        "# Keep individuals that are more than 16 and less than 54\n",
        "df_IRCA_1 = df_IRCA[(df_IRCA['age'] >= 16) & (df_IRCA['age'] <= 54)]\n",
        "\n",
        "# Keep if individual comes from Mexico, Guatemala, El Salvador, Colombia, i.e. mexico==1|bpld==21030|bpld==21040|bpld==30025\n",
        "df_IRCA_1 = df_IRCA_1[(df_IRCA_1['mexico']==1)|(df_IRCA_1['bpld']==21030)|(df_IRCA_1['bpld']==21040)|(df_IRCA_1['bpld']==30025)]\n",
        "\n",
        "# Keep indivisuals who don't work in agriculture, i.e. drop if occ1990 >= 473 & occ1990 <= 484\n",
        "df_IRCA_1 = df_IRCA_1[(df_IRCA_1['occ1990']<473)|(df_IRCA_1['occ1990']>484)]\n",
        "\n",
        "# Define new variable age of immigration ageimmig as age - yrsus\n",
        "df_IRCA_2 = df_IRCA_1.copy()\n",
        "df_IRCA_2.loc[:, 'ageimmig'] = df_IRCA_2['age'] - df_IRCA_2['yrsus']\n",
        "\n",
        "# Keep if age of immigration is above or equal to 20\n",
        "df_IRCA_2 = df_IRCA_2[df_IRCA_2['ageimmig']>=20]\n",
        "\n",
        "# Keep if year of immigration is between 1970 and 1990\n",
        "df_IRCA_2 = df_IRCA_2[(df_IRCA_2['yrimmig']>=1973)&(df_IRCA_2['yrimmig']<=1990)]\n",
        "\n",
        "# define post82 dummy\n",
        "df_IRCA_2['pre82'] = (df_IRCA_2['yrimmig'] < 1982).astype(int)\n",
        "\n",
        "# define citizenship dummy\n",
        "df_IRCA_2['citi'] = (df_IRCA_2['citizen'] <= 2).astype(int)\n",
        "\n",
        "# Adress men and women separately\n",
        "df_IRCA_men = df_IRCA_2[df_IRCA_2['sex']==1]\n",
        "df_IRCA_women = df_IRCA_2[df_IRCA_2['sex']==2]"
      ],
      "metadata": {
        "id": "Bda6ZByKRlkc"
      },
      "execution_count": 58,
      "outputs": []
    },
    {
      "cell_type": "code",
      "source": [
        "# compute new variable with mean fraction of citizens per year of immigration in df_IRCA_men\n",
        "\n",
        "citizen_fraction_by_year = df_IRCA_men.groupby('yrimmig')['citi'].mean()\n",
        "df_IRCA_men = df_IRCA_men.merge(citizen_fraction_by_year, on='yrimmig', suffixes=('', '_mean'))\n",
        "df_IRCA_men = df_IRCA_men.rename(columns={'citi_mean': 'mean_citizen_fraction'})\n",
        "\n",
        "# compute new variable with mean fraction of citizens per year of immigration in df_IRCA_women\n",
        "\n",
        "citizen_fraction_by_year_women = df_IRCA_women.groupby('yrimmig')['citi'].mean()\n",
        "df_IRCA_women = df_IRCA_women.merge(citizen_fraction_by_year_women, on='yrimmig', suffixes=('', '_mean'))\n",
        "df_IRCA_women = df_IRCA_women.rename(columns={'citi_mean': 'mean_citizen_fraction'})"
      ],
      "metadata": {
        "id": "aMsE-4URc0_O"
      },
      "execution_count": 59,
      "outputs": []
    },
    {
      "cell_type": "code",
      "source": [
        "# Plot\n",
        "\n",
        "plt.figure(figsize=(8, 4))\n",
        "\n",
        "# Scatter plot for men\n",
        "plt.scatter(df_IRCA_men['yrimmig'], df_IRCA_men['mean_citizen_fraction'], color='black', label='Men')\n",
        "\n",
        "# Scatter plot for women\n",
        "plt.scatter(df_IRCA_women['yrimmig'], df_IRCA_women['mean_citizen_fraction'], color='brown', label='Women')\n",
        "\n",
        "plt.xlabel('Year of Immigration')\n",
        "plt.ylabel('Fraction of Citizens')\n",
        "plt.title('Citizen Fraction vs. Year of Immigration')\n",
        "\n",
        "xticks = np.arange(min(df_IRCA_men['yrimmig']), max(df_IRCA_men['yrimmig'])+1, 5)\n",
        "plt.xticks(xticks)\n",
        "\n",
        "plt.axvline(x=1982, color='red', linestyle='--')\n",
        "\n",
        "# OLS lines for men\n",
        "before_1982_men = df_IRCA_men[df_IRCA_men['yrimmig'] < 1982]\n",
        "ols_before_men = smf.ols('mean_citizen_fraction ~ yrimmig', data=before_1982_men).fit()\n",
        "plt.plot(before_1982_men['yrimmig'], ols_before_men.predict(before_1982_men), color='black')\n",
        "\n",
        "after_1982_men = df_IRCA_men[df_IRCA_men['yrimmig'] >= 1982]\n",
        "ols_after_men = smf.ols('mean_citizen_fraction ~ yrimmig', data=after_1982_men).fit()\n",
        "plt.plot(after_1982_men['yrimmig'], ols_after_men.predict(after_1982_men), color='black')\n",
        "\n",
        "# OLS lines for women\n",
        "before_1982_women = df_IRCA_women[df_IRCA_women['yrimmig'] < 1982]\n",
        "ols_before_women = smf.ols('mean_citizen_fraction ~ yrimmig', data=before_1982_women).fit()\n",
        "plt.plot(before_1982_women['yrimmig'], ols_before_women.predict(before_1982_women), color='brown')\n",
        "\n",
        "after_1982_women = df_IRCA_women[df_IRCA_women['yrimmig'] >= 1982]\n",
        "ols_after_women = smf.ols('mean_citizen_fraction ~ yrimmig', data=after_1982_women).fit()\n",
        "plt.plot(after_1982_women['yrimmig'], ols_after_women.predict(after_1982_women), color='brown')\n",
        "\n",
        "plt.legend()\n",
        "plt.show()"
      ],
      "metadata": {
        "colab": {
          "base_uri": "https://localhost:8080/",
          "height": 410
        },
        "id": "L8frTHQuirKP",
        "outputId": "33ee8e39-049f-4d82-e16a-671b4da38da3"
      },
      "execution_count": 60,
      "outputs": [
        {
          "output_type": "display_data",
          "data": {
            "text/plain": [
              "<Figure size 800x400 with 1 Axes>"
            ],
            "image/png": "[encoded data removed]"
          },
          "metadata": {}
        }
      ]
    },
    {
      "cell_type": "markdown",
      "source": [
        "### Linear DiD on Wages"
      ],
      "metadata": {
        "id": "F-fFQefr2ah8"
      }
    },
    {
      "cell_type": "markdown",
      "source": [
        "First let's plot the wages as we did for the fractions of citizens"
      ],
      "metadata": {
        "id": "-CzjbU5m2uJS"
      }
    },
    {
      "cell_type": "code",
      "source": [
        "# compute mean wages per year of immigration in df_IRCA_men\n",
        "mean_wage_by_year = df_IRCA_men.groupby('yrimmig')['wage'].mean()\n",
        "df_IRCA_men = df_IRCA_men.merge(mean_wage_by_year, on='yrimmig', suffixes=('', '_mean'))\n",
        "df_IRCA_men = df_IRCA_men.rename(columns={'wage_mean': 'mean_wage'})\n",
        "\n",
        "# compute mean wages per year of immigration in df_IRCA_women\n",
        "mean_wage_by_year_women = df_IRCA_women.groupby('yrimmig')['wage'].mean()\n",
        "df_IRCA_women = df_IRCA_women.merge(mean_wage_by_year_women, on='yrimmig', suffixes=('', '_mean'))\n",
        "df_IRCA_women = df_IRCA_women.rename(columns={'wage_mean': 'mean_wage'})\n",
        "\n",
        "# Plot\n",
        "\n",
        "plt.figure(figsize=(8, 4))\n",
        "\n",
        "# Scatter plot men\n",
        "plt.scatter(df_IRCA_men['yrimmig'], df_IRCA_men['mean_wage'], color='black', label='Men')\n",
        "\n",
        "# Scatter plot women\n",
        "plt.scatter(df_IRCA_women['yrimmig'], df_IRCA_women['mean_wage'], color='brown', label='Women')\n",
        "\n",
        "plt.xlabel('Year of Immigration')\n",
        "plt.ylabel('Mean Wage')\n",
        "plt.title('Mean Wage vs. Year of Immigration')\n",
        "\n",
        "xticks = np.arange(min(df_IRCA_men['yrimmig']), max(df_IRCA_men['yrimmig'])+1, 5)\n",
        "plt.xticks(xticks)\n",
        "\n",
        "plt.axvline(x=1982, color='red', linestyle='--')\n",
        "\n",
        "# Slopes for men\n",
        "before_1982_men = df_IRCA_men[df_IRCA_men['yrimmig'] < 1982]\n",
        "ols_before_men = smf.ols('mean_wage ~ yrimmig', data=before_1982_men).fit()\n",
        "plt.plot(before_1982_men['yrimmig'], ols_before_men.predict(before_1982_men), color='black')\n",
        "\n",
        "after_1982_men = df_IRCA_men[df_IRCA_men['yrimmig'] >= 1982]\n",
        "ols_after_men = smf.ols('mean_wage ~ yrimmig', data=after_1982_men).fit()\n",
        "plt.plot(after_1982_men['yrimmig'], ols_after_men.predict(after_1982_men), color='black')\n",
        "\n",
        "# Slopes for women\n",
        "before_1982_women = df_IRCA_women[df_IRCA_women['yrimmig'] < 1982]\n",
        "ols_before_women = smf.ols('mean_wage ~ yrimmig', data=before_1982_women).fit()\n",
        "plt.plot(before_1982_women['yrimmig'], ols_before_women.predict(before_1982_women), color='brown')\n",
        "\n",
        "after_1982_women = df_IRCA_women[df_IRCA_women['yrimmig'] >= 1982]\n",
        "ols_after_women = smf.ols('mean_wage ~ yrimmig', data=after_1982_women).fit()\n",
        "plt.plot(after_1982_women['yrimmig'], ols_after_women.predict(after_1982_women), color='brown')\n",
        "\n",
        "plt.legend()\n",
        "plt.show()"
      ],
      "metadata": {
        "colab": {
          "base_uri": "https://localhost:8080/",
          "height": 410
        },
        "id": "ZxbpVtTL4fjQ",
        "outputId": "83d295ea-1c57-482c-e64e-506147a74942"
      },
      "execution_count": 61,
      "outputs": [
        {
          "output_type": "display_data",
          "data": {
            "text/plain": [
              "<Figure size 800x400 with 1 Axes>"
            ],
            "image/png": "[encoded data removed]"
          },
          "metadata": {}
        }
      ]
    },
    {
      "cell_type": "markdown",
      "source": [
        "Now we use a linear DiD and assume the relation between outcome and (treatment,covariates) is linear."
      ],
      "metadata": {
        "id": "GV9-ttde2z2V"
      }
    },
    {
      "cell_type": "code",
      "source": [
        "# men\n",
        "smf.ols(\"wage ~ 1 + yrimmig * pre82 + age + C(educrec)\", data=df_IRCA_men).fit().summary().tables[1]"
      ],
      "metadata": {
        "colab": {
          "base_uri": "https://localhost:8080/",
          "height": 318
        },
        "id": "obLIC5ub28o0",
        "outputId": "d93f53b4-3b1e-4b4a-9142-601d5296dc1c"
      },
      "execution_count": 62,
      "outputs": [
        {
          "output_type": "execute_result",
          "data": {
            "text/plain": [
              "<class 'statsmodels.iolib.table.SimpleTable'>"
            ],
            "text/html": [
              "<table class=\"simpletable\">\n",
              "<tr>\n",
              "         <td></td>            <th>coef</th>     <th>std err</th>      <th>t</th>      <th>P>|t|</th>  <th>[0.025</th>    <th>0.975]</th>  \n",
              "</tr>\n",
              "<tr>\n",
              "  <th>Intercept</th>       <td> 8.302e+05</td> <td> 1.29e+05</td> <td>    6.443</td> <td> 0.000</td> <td> 5.78e+05</td> <td> 1.08e+06</td>\n",
              "</tr>\n",
              "<tr>\n",
              "  <th>C(educrec)[T.2]</th> <td> -890.7961</td> <td>  566.068</td> <td>   -1.574</td> <td> 0.116</td> <td>-2000.300</td> <td>  218.708</td>\n",
              "</tr>\n",
              "<tr>\n",
              "  <th>C(educrec)[T.3]</th> <td> 1336.5633</td> <td>  415.302</td> <td>    3.218</td> <td> 0.001</td> <td>  522.564</td> <td> 2150.563</td>\n",
              "</tr>\n",
              "<tr>\n",
              "  <th>C(educrec)[T.4]</th> <td> 2907.7446</td> <td>  559.594</td> <td>    5.196</td> <td> 0.000</td> <td> 1810.930</td> <td> 4004.559</td>\n",
              "</tr>\n",
              "<tr>\n",
              "  <th>C(educrec)[T.5]</th> <td> 2309.2392</td> <td>  808.014</td> <td>    2.858</td> <td> 0.004</td> <td>  725.516</td> <td> 3892.962</td>\n",
              "</tr>\n",
              "<tr>\n",
              "  <th>C(educrec)[T.6]</th> <td> 1815.2252</td> <td>  850.460</td> <td>    2.134</td> <td> 0.033</td> <td>  148.307</td> <td> 3482.143</td>\n",
              "</tr>\n",
              "<tr>\n",
              "  <th>C(educrec)[T.7]</th> <td> 4542.5616</td> <td>  439.123</td> <td>   10.345</td> <td> 0.000</td> <td> 3681.871</td> <td> 5403.252</td>\n",
              "</tr>\n",
              "<tr>\n",
              "  <th>C(educrec)[T.8]</th> <td> 8594.6910</td> <td>  522.693</td> <td>   16.443</td> <td> 0.000</td> <td> 7570.201</td> <td> 9619.181</td>\n",
              "</tr>\n",
              "<tr>\n",
              "  <th>C(educrec)[T.9]</th> <td> 2.249e+04</td> <td>  645.517</td> <td>   34.844</td> <td> 0.000</td> <td> 2.12e+04</td> <td> 2.38e+04</td>\n",
              "</tr>\n",
              "<tr>\n",
              "  <th>yrimmig</th>         <td> -407.9387</td> <td>   64.697</td> <td>   -6.305</td> <td> 0.000</td> <td> -534.745</td> <td> -281.132</td>\n",
              "</tr>\n",
              "<tr>\n",
              "  <th>pre82</th>           <td>-2.468e+05</td> <td> 2.12e+05</td> <td>   -1.162</td> <td> 0.245</td> <td>-6.63e+05</td> <td>  1.7e+05</td>\n",
              "</tr>\n",
              "<tr>\n",
              "  <th>yrimmig:pre82</th>   <td>  124.3900</td> <td>  107.255</td> <td>    1.160</td> <td> 0.246</td> <td>  -85.832</td> <td>  334.612</td>\n",
              "</tr>\n",
              "<tr>\n",
              "  <th>age</th>             <td>  -76.0718</td> <td>   25.495</td> <td>   -2.984</td> <td> 0.003</td> <td> -126.043</td> <td>  -26.100</td>\n",
              "</tr>\n",
              "</table>"
            ],
            "text/latex": "\\begin{center}\n\\begin{tabular}{lcccccc}\n\\toprule\n                         & \\textbf{coef} & \\textbf{std err} & \\textbf{t} & \\textbf{P$> |$t$|$} & \\textbf{[0.025} & \\textbf{0.975]}  \\\\\n\\midrule\n\\textbf{Intercept}       &    8.302e+05  &     1.29e+05     &     6.443  &         0.000        &     5.78e+05    &     1.08e+06     \\\\\n\\textbf{C(educrec)[T.2]} &    -890.7961  &      566.068     &    -1.574  &         0.116        &    -2000.300    &      218.708     \\\\\n\\textbf{C(educrec)[T.3]} &    1336.5633  &      415.302     &     3.218  &         0.001        &      522.564    &     2150.563     \\\\\n\\textbf{C(educrec)[T.4]} &    2907.7446  &      559.594     &     5.196  &         0.000        &     1810.930    &     4004.559     \\\\\n\\textbf{C(educrec)[T.5]} &    2309.2392  &      808.014     &     2.858  &         0.004        &      725.516    &     3892.962     \\\\\n\\textbf{C(educrec)[T.6]} &    1815.2252  &      850.460     &     2.134  &         0.033        &      148.307    &     3482.143     \\\\\n\\textbf{C(educrec)[T.7]} &    4542.5616  &      439.123     &    10.345  &         0.000        &     3681.871    &     5403.252     \\\\\n\\textbf{C(educrec)[T.8]} &    8594.6910  &      522.693     &    16.443  &         0.000        &     7570.201    &     9619.181     \\\\\n\\textbf{C(educrec)[T.9]} &    2.249e+04  &      645.517     &    34.844  &         0.000        &     2.12e+04    &     2.38e+04     \\\\\n\\textbf{yrimmig}         &    -407.9387  &       64.697     &    -6.305  &         0.000        &     -534.745    &     -281.132     \\\\\n\\textbf{pre82}           &   -2.468e+05  &     2.12e+05     &    -1.162  &         0.245        &    -6.63e+05    &      1.7e+05     \\\\\n\\textbf{yrimmig:pre82}   &     124.3900  &      107.255     &     1.160  &         0.246        &      -85.832    &      334.612     \\\\\n\\textbf{age}             &     -76.0718  &       25.495     &    -2.984  &         0.003        &     -126.043    &      -26.100     \\\\\n\\bottomrule\n\\end{tabular}\n\\end{center}"
          },
          "metadata": {},
          "execution_count": 62
        }
      ]
    },
    {
      "cell_type": "code",
      "source": [
        "# women\n",
        "smf.ols(\"wage ~  1 + yrimmig * pre82 + age + C(educrec)\", data=df_IRCA_women).fit().summary().tables[1]"
      ],
      "metadata": {
        "colab": {
          "base_uri": "https://localhost:8080/",
          "height": 318
        },
        "id": "JMd9NDNW3osx",
        "outputId": "ade8a9df-b1e1-4b77-e674-0b5f8792d265"
      },
      "execution_count": 63,
      "outputs": [
        {
          "output_type": "execute_result",
          "data": {
            "text/plain": [
              "<class 'statsmodels.iolib.table.SimpleTable'>"
            ],
            "text/html": [
              "<table class=\"simpletable\">\n",
              "<tr>\n",
              "         <td></td>            <th>coef</th>     <th>std err</th>      <th>t</th>      <th>P>|t|</th>  <th>[0.025</th>    <th>0.975]</th>  \n",
              "</tr>\n",
              "<tr>\n",
              "  <th>Intercept</th>       <td> 6.066e+05</td> <td> 9.05e+04</td> <td>    6.706</td> <td> 0.000</td> <td> 4.29e+05</td> <td> 7.84e+05</td>\n",
              "</tr>\n",
              "<tr>\n",
              "  <th>C(educrec)[T.2]</th> <td>  -87.1667</td> <td>  389.123</td> <td>   -0.224</td> <td> 0.823</td> <td> -849.858</td> <td>  675.524</td>\n",
              "</tr>\n",
              "<tr>\n",
              "  <th>C(educrec)[T.3]</th> <td>  467.8739</td> <td>  290.167</td> <td>    1.612</td> <td> 0.107</td> <td> -100.860</td> <td> 1036.608</td>\n",
              "</tr>\n",
              "<tr>\n",
              "  <th>C(educrec)[T.4]</th> <td> 1147.0048</td> <td>  396.979</td> <td>    2.889</td> <td> 0.004</td> <td>  368.916</td> <td> 1925.093</td>\n",
              "</tr>\n",
              "<tr>\n",
              "  <th>C(educrec)[T.5]</th> <td>  896.5110</td> <td>  598.439</td> <td>    1.498</td> <td> 0.134</td> <td> -276.445</td> <td> 2069.467</td>\n",
              "</tr>\n",
              "<tr>\n",
              "  <th>C(educrec)[T.6]</th> <td> 1345.9905</td> <td>  624.317</td> <td>    2.156</td> <td> 0.031</td> <td>  122.312</td> <td> 2569.669</td>\n",
              "</tr>\n",
              "<tr>\n",
              "  <th>C(educrec)[T.7]</th> <td> 2794.3391</td> <td>  309.227</td> <td>    9.037</td> <td> 0.000</td> <td> 2188.246</td> <td> 3400.433</td>\n",
              "</tr>\n",
              "<tr>\n",
              "  <th>C(educrec)[T.8]</th> <td> 6419.7446</td> <td>  383.297</td> <td>   16.749</td> <td> 0.000</td> <td> 5668.473</td> <td> 7171.016</td>\n",
              "</tr>\n",
              "<tr>\n",
              "  <th>C(educrec)[T.9]</th> <td> 1.272e+04</td> <td>  471.250</td> <td>   26.987</td> <td> 0.000</td> <td> 1.18e+04</td> <td> 1.36e+04</td>\n",
              "</tr>\n",
              "<tr>\n",
              "  <th>yrimmig</th>         <td> -302.3493</td> <td>   45.408</td> <td>   -6.658</td> <td> 0.000</td> <td> -391.351</td> <td> -213.348</td>\n",
              "</tr>\n",
              "<tr>\n",
              "  <th>pre82</th>           <td>-6.975e+05</td> <td> 1.48e+05</td> <td>   -4.700</td> <td> 0.000</td> <td>-9.88e+05</td> <td>-4.07e+05</td>\n",
              "</tr>\n",
              "<tr>\n",
              "  <th>yrimmig:pre82</th>   <td>  351.9342</td> <td>   74.916</td> <td>    4.698</td> <td> 0.000</td> <td>  205.097</td> <td>  498.772</td>\n",
              "</tr>\n",
              "<tr>\n",
              "  <th>age</th>             <td>   13.2530</td> <td>   17.818</td> <td>    0.744</td> <td> 0.457</td> <td>  -21.671</td> <td>   48.177</td>\n",
              "</tr>\n",
              "</table>"
            ],
            "text/latex": "\\begin{center}\n\\begin{tabular}{lcccccc}\n\\toprule\n                         & \\textbf{coef} & \\textbf{std err} & \\textbf{t} & \\textbf{P$> |$t$|$} & \\textbf{[0.025} & \\textbf{0.975]}  \\\\\n\\midrule\n\\textbf{Intercept}       &    6.066e+05  &     9.05e+04     &     6.706  &         0.000        &     4.29e+05    &     7.84e+05     \\\\\n\\textbf{C(educrec)[T.2]} &     -87.1667  &      389.123     &    -0.224  &         0.823        &     -849.858    &      675.524     \\\\\n\\textbf{C(educrec)[T.3]} &     467.8739  &      290.167     &     1.612  &         0.107        &     -100.860    &     1036.608     \\\\\n\\textbf{C(educrec)[T.4]} &    1147.0048  &      396.979     &     2.889  &         0.004        &      368.916    &     1925.093     \\\\\n\\textbf{C(educrec)[T.5]} &     896.5110  &      598.439     &     1.498  &         0.134        &     -276.445    &     2069.467     \\\\\n\\textbf{C(educrec)[T.6]} &    1345.9905  &      624.317     &     2.156  &         0.031        &      122.312    &     2569.669     \\\\\n\\textbf{C(educrec)[T.7]} &    2794.3391  &      309.227     &     9.037  &         0.000        &     2188.246    &     3400.433     \\\\\n\\textbf{C(educrec)[T.8]} &    6419.7446  &      383.297     &    16.749  &         0.000        &     5668.473    &     7171.016     \\\\\n\\textbf{C(educrec)[T.9]} &    1.272e+04  &      471.250     &    26.987  &         0.000        &     1.18e+04    &     1.36e+04     \\\\\n\\textbf{yrimmig}         &    -302.3493  &       45.408     &    -6.658  &         0.000        &     -391.351    &     -213.348     \\\\\n\\textbf{pre82}           &   -6.975e+05  &     1.48e+05     &    -4.700  &         0.000        &    -9.88e+05    &    -4.07e+05     \\\\\n\\textbf{yrimmig:pre82}   &     351.9342  &       74.916     &     4.698  &         0.000        &      205.097    &      498.772     \\\\\n\\textbf{age}             &      13.2530  &       17.818     &     0.744  &         0.457        &      -21.671    &       48.177     \\\\\n\\bottomrule\n\\end{tabular}\n\\end{center}"
          },
          "metadata": {},
          "execution_count": 63
        }
      ]
    },
    {
      "cell_type": "markdown",
      "source": [
        "With DML:"
      ],
      "metadata": {
        "id": "uL5avCZH5uZ1"
      }
    },
    {
      "cell_type": "code",
      "source": [
        "# set educrec as categorical variable\n",
        "df_IRCA_men['educrec'] = df_IRCA_men['educrec'].astype('category')\n",
        "df_IRCA_women['educrec'] = df_IRCA_women['educrec'].astype('category')"
      ],
      "metadata": {
        "id": "7S2cQZoYOOX7"
      },
      "execution_count": 64,
      "outputs": []
    },
    {
      "cell_type": "markdown",
      "source": [
        "First we need to choose the model, we're going to do it by comparing the RMSEs:"
      ],
      "metadata": {
        "id": "1wmLVUhjlK4w"
      }
    },
    {
      "cell_type": "code",
      "source": [
        "# define function that computes polynomial features of variables and interactions\n",
        "def poly():\n",
        "        return PolynomialFeatures(degree=3, interaction_only=True, include_bias=False)"
      ],
      "metadata": {
        "id": "nOydgiGBmxCM"
      },
      "execution_count": 65,
      "outputs": []
    },
    {
      "cell_type": "code",
      "source": [
        "# list of all used learners\n",
        "\n",
        "learners = {\n",
        "        # no X\n",
        "        \"No Controls\": (DummyRegressor(strategy=\"mean\"), DummyClassifier(strategy=\"prior\")),\n",
        "        # linear models of X\n",
        "        \"Linear models\": (LinearRegression(), LogisticRegression(random_state=123)),\n",
        "        # third degree interactions, with Ridge\n",
        "        \"Ridge\": (make_pipeline(poly(), RidgeCV()),\n",
        "                       make_pipeline(poly(), LogisticRegressionCV(random_state=123))),\n",
        "        # third degree interactions, with Lasso\n",
        "        \"Lasso\": (make_pipeline(poly(), LassoCV(random_state=123)),\n",
        "                       make_pipeline(poly(), LogisticRegressionCV(random_state=123))),\n",
        "        # Random Forest regressors and classifiers\n",
        "        \"Random Forest\": (RandomForestRegressor(n_estimators=100, min_samples_leaf=20, max_features=4,\n",
        "                                                random_state=123),\n",
        "                          RandomForestClassifier(n_estimators=100, min_samples_leaf=20, max_features=4,\n",
        "                                                random_state=123)),\n",
        "        # LGBM regressor and classifier\n",
        "        \"Light Gradient Boosting\": (LGBMRegressor(n_estimators=500, verbose=-1, random_state=123),\n",
        "                                    LGBMClassifier(n_estimators=100, verbose=-1, random_state=123))\n",
        "    }"
      ],
      "metadata": {
        "id": "Wpc1yqd5nJFr"
      },
      "execution_count": 66,
      "outputs": []
    },
    {
      "cell_type": "markdown",
      "source": [
        "Men:"
      ],
      "metadata": {
        "id": "cUnns48IydQE"
      }
    },
    {
      "cell_type": "code",
      "source": [
        "# set up data\n",
        "X = df_IRCA_men[['age','educrec','yrimmig']]\n",
        "D = df_IRCA_men['pre82']\n",
        "Y = df_IRCA_men['wage']\n",
        "\n",
        "# set dict to save RMSE values\n",
        "att_m, se_att_m, D_hat_m, RMSE_d_m, RMSE_y_m = {}, {}, {}, {}, {}\n",
        "\n",
        "for method, (ml_g, ml_m) in learners.items():\n",
        "            print(f\"Estimating {method}.\")\n",
        "            point, stderr, dyhat, Dhat, rmsey, rmsed, phat = dr_att(X, D, Y, ml_g, ml_m, trimming=0.01, nfolds=5)\n",
        "            RMSE_y_m[method], RMSE_d_m[method] = rmsey, rmsed\n",
        "            att_m[method], se_att_m[method] = point, stderr\n",
        "            D_hat_m[method] = Dhat"
      ],
      "metadata": {
        "colab": {
          "base_uri": "https://localhost:8080/"
        },
        "id": "3mvQWtXUlP_P",
        "outputId": "01119007-c0fc-451e-e839-20538c568051"
      },
      "execution_count": 67,
      "outputs": [
        {
          "output_type": "stream",
          "name": "stdout",
          "text": [
            "Estimating No Controls.\n",
            "Estimating Linear models.\n",
            "Estimating Ridge.\n",
            "Estimating Lasso.\n",
            "Estimating Random Forest.\n",
            "Estimating Light Gradient Boosting.\n"
          ]
        }
      ]
    },
    {
      "cell_type": "code",
      "source": [
        "table1 = pd.concat(\n",
        "    {\n",
        "        'RMSE Y': pd.DataFrame.from_dict(RMSE_y_m, orient='index'),\n",
        "        'RMSE D': pd.DataFrame.from_dict(RMSE_d_m, orient='index')\n",
        "    },\n",
        "    axis=1\n",
        ")\n",
        "table1 = table1.swaplevel(0, 1, axis=1)\n",
        "table1 = table1.sort_index(axis=1)\n",
        "print(table1.to_markdown())"
      ],
      "metadata": {
        "colab": {
          "base_uri": "https://localhost:8080/"
        },
        "id": "H8n1dcsxwKHo",
        "outputId": "c481af87-f123-4799-81cc-b89a68afa71d"
      },
      "execution_count": 68,
      "outputs": [
        {
          "output_type": "stream",
          "name": "stdout",
          "text": [
            "|                         |   (0, 'RMSE D') |   (0, 'RMSE Y') |\n",
            "|:------------------------|----------------:|----------------:|\n",
            "| No Controls             |       0.471005  |         25189.8 |\n",
            "| Linear models           |       0.0100047 |         24922.7 |\n",
            "| Ridge                   |       0.0485243 |         31750.6 |\n",
            "| Lasso                   |       0.0485243 |         24930.1 |\n",
            "| Random Forest           |       0.01      |         24925.2 |\n",
            "| Light Gradient Boosting |       0.01      |         25423.1 |\n"
          ]
        }
      ]
    },
    {
      "cell_type": "markdown",
      "source": [
        "Many methods have similar RMSE scores, we use LGBM because it generalises the linear model case and it is faster than Random Forests."
      ],
      "metadata": {
        "id": "UvyBTWo9ZYub"
      }
    },
    {
      "cell_type": "code",
      "source": [
        "print(f\"ATT: {att_m['Light Gradient Boosting']:.2f} ± {se_att_m['Light Gradient Boosting']:.2f}\")"
      ],
      "metadata": {
        "colab": {
          "base_uri": "https://localhost:8080/"
        },
        "id": "c_HH9bKe0_SM",
        "outputId": "31cfcd50-d021-4047-db66-a8d98c7333e2"
      },
      "execution_count": 69,
      "outputs": [
        {
          "output_type": "stream",
          "name": "stdout",
          "text": [
            "ATT: 1676.83 ± 238.61\n"
          ]
        }
      ]
    },
    {
      "cell_type": "code",
      "source": [
        "g = sns.histplot( x=D_hat_m['Linear models'], hue=df_IRCA_men['pre82'], bins=50)\n",
        "g.set(xlabel=\"\", title=\"Estimated Propensity Scores (Men)\")"
      ],
      "metadata": {
        "colab": {
          "base_uri": "https://localhost:8080/",
          "height": 470
        },
        "id": "1rS3mAnn1xyR",
        "outputId": "94581865-13af-4c7b-b196-4cc5e9ff1658"
      },
      "execution_count": 70,
      "outputs": [
        {
          "output_type": "execute_result",
          "data": {
            "text/plain": [
              "[Text(0.5, 0, ''), Text(0.5, 1.0, 'Estimated Propensity Scores (Men)')]"
            ]
          },
          "metadata": {},
          "execution_count": 70
        },
        {
          "output_type": "display_data",
          "data": {
            "text/plain": [
              "<Figure size 640x480 with 1 Axes>"
            ],
            "image/png": "[encoded data removed]"
          },
          "metadata": {}
        }
      ]
    },
    {
      "cell_type": "markdown",
      "source": [
        "Women:"
      ],
      "metadata": {
        "id": "zUSvjNLfZS5r"
      }
    },
    {
      "cell_type": "code",
      "source": [
        "# set up data\n",
        "X = df_IRCA_women[['age','educrec','yrimmig']]\n",
        "D = df_IRCA_women['pre82']\n",
        "Y = df_IRCA_women['wage']\n",
        "\n",
        "# set dict to save RMSE values\n",
        "att_w, se_att_w, D_hat_w, RMSE_d_w, RMSE_y_w = {}, {}, {}, {}, {}\n",
        "\n",
        "for method, (ml_g, ml_m) in learners.items():\n",
        "            print(f\"Estimating {method}.\")\n",
        "            point, stderr, dyhat, Dhat, rmsey, rmsed, phat = dr_att(X, D, Y, ml_g, ml_m, trimming=0.01, nfolds=5)\n",
        "            RMSE_y_w[method], RMSE_d_w[method] = rmsey, rmsed\n",
        "            att_w[method], se_att_w[method] = point, stderr\n",
        "            D_hat_w[method] = Dhat"
      ],
      "metadata": {
        "colab": {
          "base_uri": "https://localhost:8080/"
        },
        "id": "pKGEDkTC2itI",
        "outputId": "8b8989c3-be88-494c-fe07-fca553d7fdf9"
      },
      "execution_count": 71,
      "outputs": [
        {
          "output_type": "stream",
          "name": "stdout",
          "text": [
            "Estimating No Controls.\n",
            "Estimating Linear models.\n",
            "Estimating Ridge.\n",
            "Estimating Lasso.\n",
            "Estimating Random Forest.\n",
            "Estimating Light Gradient Boosting.\n"
          ]
        }
      ]
    },
    {
      "cell_type": "code",
      "source": [
        "table1 = pd.concat(\n",
        "    {\n",
        "        'RMSE Y': pd.DataFrame.from_dict(RMSE_y_w, orient='index'),\n",
        "        'RMSE D': pd.DataFrame.from_dict(RMSE_d_w, orient='index')\n",
        "    },\n",
        "    axis=1\n",
        ")\n",
        "table1 = table1.swaplevel(0, 1, axis=1)\n",
        "table1 = table1.sort_index(axis=1)\n",
        "print(table1.to_markdown())"
      ],
      "metadata": {
        "colab": {
          "base_uri": "https://localhost:8080/"
        },
        "id": "PmBhdiob2zWf",
        "outputId": "0bc7679e-75db-4d6d-9b7e-32c5ccbfb76a"
      },
      "execution_count": 72,
      "outputs": [
        {
          "output_type": "stream",
          "name": "stdout",
          "text": [
            "|                         |   (0, 'RMSE D') |   (0, 'RMSE Y') |\n",
            "|:------------------------|----------------:|----------------:|\n",
            "| No Controls             |       0.469635  |         17273   |\n",
            "| Linear models           |       0.0100002 |         17127.7 |\n",
            "| Ridge                   |       0.060679  |         17982.5 |\n",
            "| Lasso                   |       0.060679  |         17132.6 |\n",
            "| Random Forest           |       0.01      |         17181   |\n",
            "| Light Gradient Boosting |       0.01      |         17472.1 |\n"
          ]
        }
      ]
    },
    {
      "cell_type": "code",
      "source": [
        "print(f\"ATT: {att_w['Linear models']:.2f} ± {se_att_w['Light Gradient Boosting']:.2f}\")"
      ],
      "metadata": {
        "colab": {
          "base_uri": "https://localhost:8080/"
        },
        "id": "ETFd2Lk02sf5",
        "outputId": "e7c6dc8e-943e-496b-ba97-d8e249142b30"
      },
      "execution_count": 73,
      "outputs": [
        {
          "output_type": "stream",
          "name": "stdout",
          "text": [
            "ATT: -1565.49 ± 165.38\n"
          ]
        }
      ]
    },
    {
      "cell_type": "code",
      "source": [
        "g = sns.histplot( x=D_hat_w['Linear models'], hue=df_IRCA_women['pre82'], bins=50)\n",
        "g.set(xlabel=\"\", title=\"Estimated Propensity Scores (Women)\")"
      ],
      "metadata": {
        "colab": {
          "base_uri": "https://localhost:8080/",
          "height": 470
        },
        "id": "D9ZC0yck4pU9",
        "outputId": "4c497461-89aa-4a13-8b80-40c02d6e3d64"
      },
      "execution_count": 74,
      "outputs": [
        {
          "output_type": "execute_result",
          "data": {
            "text/plain": [
              "[Text(0.5, 0, ''), Text(0.5, 1.0, 'Estimated Propensity Scores (Women)')]"
            ]
          },
          "metadata": {},
          "execution_count": 74
        },
        {
          "output_type": "display_data",
          "data": {
            "text/plain": [
              "<Figure size 640x480 with 1 Axes>"
            ],
            "image/png": "[encoded data removed]"
          },
          "metadata": {}
        }
      ]
    },
    {
      "cell_type": "markdown",
      "source": [
        "## References\n",
        "\n",
        "* Chernozhukov, V. & Hansen, C. & Kallus, N. & Spindler, M. & Syrgkanis, V. (2024): Applied Causal Inference Powered by ML and AI. CausalML-book.org; arXiv:2403.02467"
      ],
      "metadata": {
        "id": "3xPgP18Givpp"
      }
    }
  ]
}